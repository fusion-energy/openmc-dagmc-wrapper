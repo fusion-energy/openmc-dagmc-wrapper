{
 "cells": [
  {
   "cell_type": "markdown",
   "metadata": {},
   "source": [
    "This is a minimal example that obtains the TBR (Tritium Breeding Ratio) for a parametric ball reactor"
   ]
  },
  {
   "cell_type": "code",
   "execution_count": 2,
   "metadata": {},
   "outputs": [
    {
     "ename": "FileNotFoundError",
     "evalue": "h5m_filename provided (dagmc.h5m) does not exist",
     "output_type": "error",
     "traceback": [
      "\u001b[0;31m---------------------------------------------------------------------------\u001b[0m",
      "\u001b[0;31mFileNotFoundError\u001b[0m                         Traceback (most recent call last)",
      "\u001b[0;32m/tmp/ipykernel_11288/4029085043.py\u001b[0m in \u001b[0;36m<module>\u001b[0;34m\u001b[0m\n\u001b[1;32m     11\u001b[0m \u001b[0;34m\u001b[0m\u001b[0m\n\u001b[1;32m     12\u001b[0m \u001b[0;31m# makes the neutronics model from the geometry and material allocations\u001b[0m\u001b[0;34m\u001b[0m\u001b[0;34m\u001b[0m\u001b[0;34m\u001b[0m\u001b[0m\n\u001b[0;32m---> 13\u001b[0;31m neutronics_model = odw.NeutronicsModel(\n\u001b[0m\u001b[1;32m     14\u001b[0m     \u001b[0mh5m_filename\u001b[0m\u001b[0;34m=\u001b[0m\u001b[0;34m\"dagmc.h5m\"\u001b[0m\u001b[0;34m,\u001b[0m\u001b[0;34m\u001b[0m\u001b[0;34m\u001b[0m\u001b[0m\n\u001b[1;32m     15\u001b[0m     \u001b[0msource\u001b[0m\u001b[0;34m=\u001b[0m\u001b[0msource\u001b[0m\u001b[0;34m,\u001b[0m\u001b[0;34m\u001b[0m\u001b[0;34m\u001b[0m\u001b[0m\n",
      "\u001b[0;32m~/openmc-dagmc-wrapper/openmc_dagmc_wrapper/neutronics_model.py\u001b[0m in \u001b[0;36m__init__\u001b[0;34m(self, h5m_filename, source, materials, cell_tallies, tet_mesh_filename, mesh_tally_2d, mesh_tally_3d, mesh_tally_tet, mesh_2d_resolution, mesh_3d_resolution, mesh_2d_corners, mesh_3d_corners, photon_transport, bounding_box)\u001b[0m\n\u001b[1;32m     91\u001b[0m     ):\n\u001b[1;32m     92\u001b[0m         \u001b[0mself\u001b[0m\u001b[0;34m.\u001b[0m\u001b[0mmaterials\u001b[0m \u001b[0;34m=\u001b[0m \u001b[0mmaterials\u001b[0m\u001b[0;34m\u001b[0m\u001b[0;34m\u001b[0m\u001b[0m\n\u001b[0;32m---> 93\u001b[0;31m         \u001b[0mself\u001b[0m\u001b[0;34m.\u001b[0m\u001b[0mh5m_filename\u001b[0m \u001b[0;34m=\u001b[0m \u001b[0mh5m_filename\u001b[0m\u001b[0;34m\u001b[0m\u001b[0;34m\u001b[0m\u001b[0m\n\u001b[0m\u001b[1;32m     94\u001b[0m         \u001b[0mself\u001b[0m\u001b[0;34m.\u001b[0m\u001b[0mtet_mesh_filename\u001b[0m \u001b[0;34m=\u001b[0m \u001b[0mtet_mesh_filename\u001b[0m\u001b[0;34m\u001b[0m\u001b[0;34m\u001b[0m\u001b[0m\n\u001b[1;32m     95\u001b[0m         \u001b[0mself\u001b[0m\u001b[0;34m.\u001b[0m\u001b[0msource\u001b[0m \u001b[0;34m=\u001b[0m \u001b[0msource\u001b[0m\u001b[0;34m\u001b[0m\u001b[0;34m\u001b[0m\u001b[0m\n",
      "\u001b[0;32m~/openmc-dagmc-wrapper/openmc_dagmc_wrapper/neutronics_model.py\u001b[0m in \u001b[0;36mh5m_filename\u001b[0;34m(self, value)\u001b[0m\n\u001b[1;32m    123\u001b[0m             \u001b[0;32mif\u001b[0m \u001b[0;32mnot\u001b[0m \u001b[0mPath\u001b[0m\u001b[0;34m(\u001b[0m\u001b[0mvalue\u001b[0m\u001b[0;34m)\u001b[0m\u001b[0;34m.\u001b[0m\u001b[0mis_file\u001b[0m\u001b[0;34m(\u001b[0m\u001b[0;34m)\u001b[0m\u001b[0;34m:\u001b[0m\u001b[0;34m\u001b[0m\u001b[0;34m\u001b[0m\u001b[0m\n\u001b[1;32m    124\u001b[0m                 \u001b[0mmsg\u001b[0m \u001b[0;34m=\u001b[0m \u001b[0;34mf\"h5m_filename provided ({value}) does not exist\"\u001b[0m\u001b[0;34m\u001b[0m\u001b[0;34m\u001b[0m\u001b[0m\n\u001b[0;32m--> 125\u001b[0;31m                 \u001b[0;32mraise\u001b[0m \u001b[0mFileNotFoundError\u001b[0m\u001b[0;34m(\u001b[0m\u001b[0mmsg\u001b[0m\u001b[0;34m)\u001b[0m\u001b[0;34m\u001b[0m\u001b[0;34m\u001b[0m\u001b[0m\n\u001b[0m\u001b[1;32m    126\u001b[0m             \u001b[0mself\u001b[0m\u001b[0;34m.\u001b[0m\u001b[0m_h5m_filename\u001b[0m \u001b[0;34m=\u001b[0m \u001b[0mvalue\u001b[0m\u001b[0;34m\u001b[0m\u001b[0;34m\u001b[0m\u001b[0m\n\u001b[1;32m    127\u001b[0m         \u001b[0;32melse\u001b[0m\u001b[0;34m:\u001b[0m\u001b[0;34m\u001b[0m\u001b[0;34m\u001b[0m\u001b[0m\n",
      "\u001b[0;31mFileNotFoundError\u001b[0m: h5m_filename provided (dagmc.h5m) does not exist"
     ]
    }
   ],
   "source": [
    "import openmc\n",
    "import openmc_dagmc_wrapper as odw\n",
    "\n",
    "source = openmc.Source()\n",
    "# sets the location of the source to x=0 y=0 z=0\n",
    "source.space = openmc.stats.Point((450, 0, 0))\n",
    "# sets the direction to isotropic\n",
    "source.angle = openmc.stats.Isotropic()\n",
    "# sets the energy distribution to 100% 14MeV neutrons\n",
    "source.energy = openmc.stats.Discrete([14e6], [1])\n",
    "\n",
    "# makes the neutronics model from the geometry and material allocations\n",
    "neutronics_model = odw.NeutronicsModel(\n",
    "    h5m_filename=\"dagmc.h5m\",\n",
    "    source=source,\n",
    "    materials={\n",
    "        'inboard_tf_coils_mat': 'eurofer',\n",
    "        'center_column_shield_mat': 'eurofer',\n",
    "        'divertor_mat': 'eurofer',\n",
    "        'firstwall_mat': 'eurofer',\n",
    "        'blanket_rear_wall_mat': 'eurofer',\n",
    "        'blanket_mat': 'Li4SiO4'},\n",
    "    cell_tallies=['TBR', 'heating'],\n",
    ")\n",
    "\n",
    "# simulate the neutronics model\n",
    "h5m_filename = neutronics_model.simulate(\n",
    "    simulation_batches=2,\n",
    "    simulation_particles_per_batch=10,  # this will need increasing to obtain accurate results\n",
    "\n",
    ")\n",
    "\n",
    "# extracts and processes the results from the statepoint file\n",
    "odw.process_results(statepoint_filename=h5m_filename)\n",
    "\n",
    "print(neutronics_model.results)\n"
   ]
  },
  {
   "cell_type": "code",
   "execution_count": null,
   "metadata": {},
   "outputs": [],
   "source": []
  }
 ],
 "metadata": {
  "interpreter": {
   "hash": "71893251c0b0cd78b546a9c905312457257aecf63dc5b51c6968316964f80317"
  },
  "kernelspec": {
   "display_name": "Python 3 (ipykernel)",
   "language": "python",
   "name": "python3"
  },
  "language_info": {
   "codemirror_mode": {
    "name": "ipython",
    "version": 3
   },
   "file_extension": ".py",
   "mimetype": "text/x-python",
   "name": "python",
   "nbconvert_exporter": "python",
   "pygments_lexer": "ipython3",
   "version": "3.8.11"
  }
 },
 "nbformat": 4,
 "nbformat_minor": 4
}
