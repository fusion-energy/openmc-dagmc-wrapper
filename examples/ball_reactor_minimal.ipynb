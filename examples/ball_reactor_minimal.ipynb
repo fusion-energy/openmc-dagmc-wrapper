{
 "cells": [
  {
   "cell_type": "markdown",
   "metadata": {},
   "source": [
    "This is a minimal example that obtains the TBR (Tritium Breeding Ratio) for a parametric ball reactor"
   ]
  },
  {
   "cell_type": "code",
   "execution_count": null,
   "metadata": {},
   "outputs": [],
   "source": [
    "import openmc\n",
    "import paramak\n",
    "import paramak_neutronics\n",
    "\n",
    "\n",
    "# makes the 3d geometry from input parameters\n",
    "my_reactor = paramak.BallReactor(\n",
    "    inner_bore_radial_thickness=50,\n",
    "    inboard_tf_leg_radial_thickness=200,\n",
    "    center_column_shield_radial_thickness=50,\n",
    "    divertor_radial_thickness=50,\n",
    "    inner_plasma_gap_radial_thickness=50,\n",
    "    plasma_radial_thickness=100,\n",
    "    outer_plasma_gap_radial_thickness=50,\n",
    "    firstwall_radial_thickness=1,\n",
    "    blanket_radial_thickness=100,\n",
    "    blanket_rear_wall_radial_thickness=10,\n",
    "    elongation=2,\n",
    "    triangularity=0.55,\n",
    "    number_of_tf_coils=16,\n",
    "    rotation_angle=359.9,  # when using Cubit method this can be set to 360\n",
    ")\n",
    "\n",
    "# method is set to Cubit or Cubit by default to avoid overlaps in the geometry\n",
    "# pymoab is used as it is open source and can be tested in the CI\n",
    "# if you have Cubit then this line can be deleted\n",
    "my_reactor.method='pymoab'\n",
    "\n",
    "source = openmc.Source()\n",
    "# sets the location of the source to x=0 y=0 z=0\n",
    "source.space = openmc.stats.Point((my_reactor.major_radius, 0, 0))\n",
    "# sets the direction to isotropic\n",
    "source.angle = openmc.stats.Isotropic()\n",
    "# sets the energy distribution to 100% 14MeV neutrons\n",
    "source.energy = openmc.stats.Discrete([14e6], [1])\n",
    "\n",
    "# makes the neutronics model from the geometry and material allocations\n",
    "neutronics_model = paramak_neutronics.NeutronicsModel(\n",
    "    h5m_filename=my_reactor.export_h5m(),\n",
    "    source=source,\n",
    "    materials={\n",
    "        'inboard_tf_coils_mat': 'eurofer',\n",
    "        'center_column_shield_mat': 'eurofer',\n",
    "        'divertor_mat': 'eurofer',\n",
    "        'firstwall_mat': 'eurofer',\n",
    "        'blanket_rear_wall_mat': 'eurofer',\n",
    "        'blanket_mat': 'Li4SiO4'},\n",
    "    cell_tallies=['TBR', 'heating'],\n",
    "    simulation_batches=2,\n",
    "    simulation_particles_per_batch=10,  # this will need increasing to obtain accurate results\n",
    ")\n",
    "\n",
    "# simulate the neutronics model\n",
    "neutronics_model.simulate()\n",
    "print(neutronics_model.results)\n"
   ]
  },
  {
   "cell_type": "code",
   "execution_count": null,
   "metadata": {},
   "outputs": [],
   "source": []
  }
 ],
 "metadata": {
  "interpreter": {
   "hash": "71893251c0b0cd78b546a9c905312457257aecf63dc5b51c6968316964f80317"
  },
  "kernelspec": {
   "display_name": "Python 3.8.10 64-bit ('cq': conda)",
   "name": "python3"
  },
  "language_info": {
   "name": "python",
   "version": ""
  }
 },
 "nbformat": 4,
 "nbformat_minor": 4
}