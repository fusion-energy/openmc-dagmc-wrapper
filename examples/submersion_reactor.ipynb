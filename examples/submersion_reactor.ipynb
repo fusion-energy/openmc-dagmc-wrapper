{
 "cells": [
  {
   "cell_type": "markdown",
   "metadata": {},
   "source": [
    "This is a example that obtains the tritium breeding ratio (TBR)\n",
    "for a parametric submersion reactor and specified the faceting and merge\n",
    "tolerance when creating the dagmc model."
   ]
  },
  {
   "cell_type": "code",
   "execution_count": null,
   "metadata": {},
   "outputs": [],
   "source": [
    "import matplotlib.pyplot as plt\n",
    "import neutronics_material_maker as nmm\n",
    "import openmc\n",
    "import paramak\n",
    "import openmc_dagmc_wrapper as odw"
   ]
  },
  {
   "cell_type": "markdown",
   "metadata": {},
   "source": [
    "This section remakes the blankt material (FLiBe) for a range of temperatures and obtains the TBR for each one."
   ]
  },
  {
   "cell_type": "code",
   "execution_count": null,
   "metadata": {},
   "outputs": [],
   "source": [
    "def make_model_and_simulate(temperature):\n",
    "    \"\"\"Makes a neutronics Reactor model and simulates the flux\n",
    "\n",
    "    Arguments:\n",
    "        temperature: the temperature of the submersion blanket in Kelivin\n",
    "    \"\"\"\n",
    "\n",
    "    # this can just be set as a string as temperature is needed for this\n",
    "    # material\n",
    "    flibe = nmm.Material.from_library(name='FLiBe', temperature=temperature, temperature_to_neutronics_code=False)\n",
    "\n",
    "    source = openmc.Source()\n",
    "    # sets the location of the source to x=0 y=0 z=0\n",
    "    source.space = openmc.stats.Point((my_reactor.major_radius, 0, 0))\n",
    "    # sets the direction to isotropic\n",
    "    source.angle = openmc.stats.Isotropic()\n",
    "    # sets the energy distribution to 100% 14MeV neutrons\n",
    "    source.energy = openmc.stats.Discrete([14e6], [1])\n",
    "\n",
    "    # makes the neutronics model from the geometry and material allocations\n",
    "    neutronics_model = paramak_neutronics.NeutronicsModel(\n",
    "        h5m_filename='dagmc.h5m',\n",
    "        source=source,\n",
    "        materials={\n",
    "            'inboard_tf_coils_mat': 'eurofer',\n",
    "            'center_column_shield_mat': 'eurofer',\n",
    "            'divertor_mat': 'eurofer',\n",
    "            'firstwall_mat': 'eurofer',\n",
    "            'blanket_rear_wall_mat': 'eurofer',\n",
    "            'blanket_mat': flibe,\n",
    "            'supports_mat': 'eurofer'},\n",
    "        cell_tallies=['TBR'],\n",
    "    )\n",
    "\n",
    "    # simulate the neutronics model\n",
    "    h5m_filename = neutronics_model.simulate(\n",
    "        simulation_batches=2,\n",
    "        simulation_particles_per_batch=10,  # to get more accurate results this will need increasing\n",
    "    ) \n",
    "    \n",
    "    results = odw.process_results(statepoint_filename=h5m_filename)\n",
    "    return results['TBR']['result']\n",
    "\n",
    "\n",
    "# loops through different temperatures finding the TBR value at each one\n",
    "tbr_values = []\n",
    "temperature_values = [32, 100, 300, 500]\n",
    "for temperature in temperature_values:\n",
    "    tbr = make_model_and_simulate(temperature)\n",
    "    tbr_values.append(tbr)\n",
    "\n",
    "# plots the results\n",
    "plt.scatter(temperature_values, tbr_values)\n",
    "plt.xlabel('FLiBe Temperature (degrees C)')\n",
    "plt.ylabel('TBR')\n",
    "plt.show()"
   ]
  },
  {
   "cell_type": "code",
   "execution_count": null,
   "metadata": {},
   "outputs": [],
   "source": []
  },
  {
   "cell_type": "code",
   "execution_count": null,
   "metadata": {},
   "outputs": [],
   "source": []
  }
 ],
 "metadata": {
  "interpreter": {
   "hash": "71893251c0b0cd78b546a9c905312457257aecf63dc5b51c6968316964f80317"
  },
  "kernelspec": {
   "display_name": "Python 3 (ipykernel)",
   "language": "python",
   "name": "python3"
  },
  "language_info": {
   "codemirror_mode": {
    "name": "ipython",
    "version": 3
   },
   "file_extension": ".py",
   "mimetype": "text/x-python",
   "name": "python",
   "nbconvert_exporter": "python",
   "pygments_lexer": "ipython3",
   "version": "3.8.11"
  }
 },
 "nbformat": 4,
 "nbformat_minor": 4
}
