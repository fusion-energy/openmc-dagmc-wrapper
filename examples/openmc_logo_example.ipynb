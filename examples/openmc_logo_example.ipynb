{
 "cells": [
  {
   "cell_type": "markdown",
   "metadata": {},
   "source": [
    "This example creates a couple of CAD volumes, combines them into a reactor and then performs an OpenMC / DAGMC simulation on the geometry. The geometry made is the OpenMC logo. \n",
    "\n",
    "There is a corresponding video fro this example\n",
    "https://youtu.be/40VARwD44FA"
   ]
  },
  {
   "cell_type": "code",
   "execution_count": null,
   "metadata": {},
   "outputs": [],
   "source": [
    "import paramak"
   ]
  },
  {
   "cell_type": "markdown",
   "metadata": {},
   "source": [
    "These two code blocks create a geometry and adds relevent meta data tags that are used in the neutronics simulation."
   ]
  },
  {
   "cell_type": "code",
   "execution_count": null,
   "metadata": {},
   "outputs": [],
   "source": [
    "red_part = paramak.ExtrudeMixedShape(\n",
    "    points=[\n",
    "        (-89.0, -50.0, 'straight'),\n",
    "         (-18.0, -50.0, 'straight'),\n",
    "         (30.0, 30.0, 'straight'),\n",
    "         (-12.0, 100.0, 'circle'),\n",
    "         (88.0, -50.0, 'circle'),\n",
    "    ],\n",
    "    distance=10,\n",
    "    color=(1,0,0),\n",
    "    name='red_part',\n",
    "    material_tag='red_part_material',\n",
    "    stp_filename='red_part.stp',\n",
    "    stl_filename='red_part.stl',\n",
    ")\n",
    "red_part.show()"
   ]
  },
  {
   "cell_type": "code",
   "execution_count": null,
   "metadata": {},
   "outputs": [],
   "source": [
    "grey_part = paramak.ExtrudeMixedShape(\n",
    "    points=[\n",
    "         (-96.5, -27.0, 'straight'),\n",
    "         (-30.0, -27.0, 'straight'),\n",
    "         (3.0, 30.0, 'straight'),\n",
    "         (-30.0, 87.0, 'straight'),\n",
    "         (-50.0, 87.0, 'straight'),\n",
    "         (-30.0, 87.0, 'circle'),\n",
    "         (-97.0, 30.0, 'circle'),\n",
    "    ],\n",
    "    distance=10,\n",
    "    color=(0.5,0.5,0.5),\n",
    "    material_tag='grey_part_material',\n",
    "    stp_filename='grey_part.stp',\n",
    "    stl_filename='grey_part.stl',\n",
    ")\n",
    "\n",
    "grey_part.show()"
   ]
  },
  {
   "cell_type": "markdown",
   "metadata": {},
   "source": [
    "This combines the two volumes into a single Reactor object"
   ]
  },
  {
   "cell_type": "code",
   "execution_count": null,
   "metadata": {},
   "outputs": [],
   "source": [
    "both_parts = paramak.Reactor([red_part, grey_part])\n",
    "both_parts.show()"
   ]
  },
  {
   "cell_type": "markdown",
   "metadata": {},
   "source": [
    "This defines the neutron source used in the simulation"
   ]
  },
  {
   "cell_type": "code",
   "execution_count": null,
   "metadata": {},
   "outputs": [],
   "source": [
    "import openmc\n",
    "source = openmc.Source()\n",
    "source.space = openmc.stats.Point((0, 50, 0))\n",
    "source.energy = openmc.stats.Discrete([14e6], [1])\n",
    "source.angle = openmc.stats.Isotropic()"
   ]
  },
  {
   "cell_type": "markdown",
   "metadata": {},
   "source": [
    "This combines the geometry withthe neutron source and materials to make a model. The specifies three types of tallies (cell, mesh 2d, mesh 3d) and the reaction to tally (tritium production and heating). Output png and vtk files will be produced for the mesh tallies."
   ]
  },
  {
   "cell_type": "code",
   "execution_count": null,
   "metadata": {},
   "outputs": [],
   "source": [
    "my_model = paramak.NeutronicsModel(\n",
    "    geometry=both_parts,\n",
    "    source=source,\n",
    "    simulation_batches=2,  # this should be increased to get a better mesh tally result\n",
    "    simulation_particles_per_batch=10,  # this should be increased to get a better mesh tally result\n",
    "    materials = {'red_part_material':'P91', 'grey_part_material':'Li4SiO4'},\n",
    "    mesh_tally_3d=['(n,Xt)','heating'],\n",
    "    mesh_tally_2d=['(n,Xt)','heating'],\n",
    "    cell_tallies=['(n,Xt)','heating', 'spectra'],\n",
    ")\n",
    "\n",
    "my_model.simulate()"
   ]
  },
  {
   "cell_type": "markdown",
   "metadata": {},
   "source": [
    "This shows the cell tally results"
   ]
  },
  {
   "cell_type": "code",
   "execution_count": null,
   "metadata": {},
   "outputs": [],
   "source": [
    "my_model.results"
   ]
  }
 ],
 "metadata": {
  "kernelspec": {
   "display_name": "Python 3",
   "language": "python",
   "name": "python3"
  },
  "language_info": {
   "codemirror_mode": {
    "name": "ipython",
    "version": 3
   },
   "file_extension": ".py",
   "mimetype": "text/x-python",
   "name": "python",
   "nbconvert_exporter": "python",
   "pygments_lexer": "ipython3",
   "version": "3.8.3"
  }
 },
 "nbformat": 4,
 "nbformat_minor": 4
}
