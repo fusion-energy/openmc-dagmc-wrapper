{
 "cells": [
  {
   "cell_type": "markdown",
   "metadata": {},
   "source": [
    "This example creates a couple of CAD volumes, combines them into a reactor and then performs an OpenMC / DAGMC simulation on the geometry. The geometry made is the OpenMC logo. \n",
    "\n",
    "There is a corresponding video fro this example\n",
    "https://youtu.be/40VARwD44FA"
   ]
  },
  {
   "cell_type": "code",
   "execution_count": null,
   "metadata": {},
   "outputs": [],
   "source": [
    "import openmc\n",
    "import openmc_dagmc_wrapper"
   ]
  },
  {
   "cell_type": "code",
   "execution_count": null,
   "metadata": {},
   "outputs": [],
   "source": [
    "source = openmc.Source()\n",
    "source.space = openmc.stats.Point((0, 50, 0))\n",
    "source.energy = openmc.stats.Discrete([14e6], [1])\n",
    "source.angle = openmc.stats.Isotropic()"
   ]
  },
  {
   "cell_type": "markdown",
   "metadata": {},
   "source": [
    "This combines the geometry withthe neutron source and materials to make a model. The specifies three types of tallies (cell, mesh 2d, mesh 3d) and the reaction to tally (tritium production and heating). Output png and vtk files will be produced for the mesh tallies."
   ]
  },
  {
   "cell_type": "code",
   "execution_count": null,
   "metadata": {},
   "outputs": [],
   "source": [
    "my_model = paramak_neutronics.NeutronicsModel(\n",
    "    h5m_filename=\"dagmc.h5m\",\n",
    "    source=source,\n",
    "    materials = {'red_part_material':'P91', 'grey_part_material':'Li4SiO4'},\n",
    "    mesh_tally_3d=['(n,Xt)','heating'],\n",
    "    mesh_tally_2d=['(n,Xt)','heating'],\n",
    "    cell_tallies=['(n,Xt)','heating', 'spectra'],\n",
    ")\n",
    "\n",
    "my_model.simulate(\n",
    "    simulation_batches=2,  # this should be increased to get a better mesh tally result\n",
    "    simulation_particles_per_batch=10,  # this should be increased to get a better mesh tally result\n",
    ")"
   ]
  },
  {
   "cell_type": "markdown",
   "metadata": {},
   "source": [
    "This shows the cell tally results"
   ]
  },
  {
   "cell_type": "code",
   "execution_count": null,
   "metadata": {},
   "outputs": [],
   "source": [
    "my_model.results"
   ]
  }
 ],
 "metadata": {
  "kernelspec": {
   "display_name": "Python 3 (ipykernel)",
   "language": "python",
   "name": "python3"
  },
  "language_info": {
   "codemirror_mode": {
    "name": "ipython",
    "version": 3
   },
   "file_extension": ".py",
   "mimetype": "text/x-python",
   "name": "python",
   "nbconvert_exporter": "python",
   "pygments_lexer": "ipython3",
   "version": "3.9.5"
  }
 },
 "nbformat": 4,
 "nbformat_minor": 4
}
