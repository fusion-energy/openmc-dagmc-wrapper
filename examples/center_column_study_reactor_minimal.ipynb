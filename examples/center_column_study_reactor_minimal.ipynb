{
 "cells": [
  {
   "cell_type": "code",
   "execution_count": null,
   "metadata": {},
   "outputs": [],
   "source": [
    "\"\"\"This is a minimal example that obtains the center column heating for a\n",
    "parametric reactor.\"\"\"\n",
    "\n",
    "import openmc\n",
    "import paramak\n",
    "\n",
    "\n",
    "# makes the 3d geometry\n",
    "my_reactor = paramak.CenterColumnStudyReactor(\n",
    "    inner_bore_radial_thickness=20,\n",
    "    inboard_tf_leg_radial_thickness=50,\n",
    "    center_column_shield_radial_thickness_mid=50,\n",
    "    center_column_shield_radial_thickness_upper=100,\n",
    "    inboard_firstwall_radial_thickness=20,\n",
    "    divertor_radial_thickness=100,\n",
    "    inner_plasma_gap_radial_thickness=80,\n",
    "    plasma_radial_thickness=200,\n",
    "    outer_plasma_gap_radial_thickness=90,\n",
    "    elongation=2.75,\n",
    "    triangularity=0.5,\n",
    "    plasma_gap_vertical_thickness=40,\n",
    "    center_column_arc_vertical_thickness=520,\n",
    "    rotation_angle=360\n",
    ")\n",
    "\n",
    "# method is set to Trelis or Cubit by default to avoid overlaps in the geometry\n",
    "# pymoab is used as it is open source and can be tested in the CI\n",
    "# if you have Trelis or Cubit then this line can be deleted\n",
    "my_reactor.method='pymoab'\n",
    "\n",
    "source = openmc.Source()\n",
    "# sets the location of the source to x=0 y=0 z=0\n",
    "source.space = openmc.stats.Point((my_reactor.major_radius, 0, 0))\n",
    "# sets the direction to isotropic\n",
    "source.angle = openmc.stats.Isotropic()\n",
    "# sets the energy distribution to 100% 14MeV neutrons\n",
    "source.energy = openmc.stats.Discrete([14e6], [1])\n",
    "\n",
    "# creates a neutronics model from the geometry and assigned materials\n",
    "neutronics_model = paramak.NeutronicsModel(\n",
    "    geometry=my_reactor,\n",
    "    source=source,\n",
    "    materials={\n",
    "        'inboard_tf_coils_mat': 'eurofer',\n",
    "        'center_column_shield_mat': 'eurofer',\n",
    "        'divertor_mat': 'eurofer',\n",
    "        'firstwall_mat': 'eurofer',\n",
    "        'blanket_mat': 'Li4SiO4'},\n",
    "    cell_tallies=['heating'],\n",
    "    simulation_batches=2,\n",
    "    simulation_particles_per_batch=10, # this will need increasing to obtain accurate results\n",
    ")\n",
    "\n",
    "# starts the neutronics simulation\n",
    "neutronics_model.simulate()\n",
    "\n",
    "# prints the results\n",
    "print(neutronics_model.results)\n"
   ]
  },
  {
   "cell_type": "code",
   "execution_count": null,
   "metadata": {},
   "outputs": [],
   "source": []
  }
 ],
 "metadata": {
  "kernelspec": {
   "display_name": "Python 3",
   "language": "python",
   "name": "python3"
  },
  "language_info": {
   "codemirror_mode": {
    "name": "ipython",
    "version": 3
   },
   "file_extension": ".py",
   "mimetype": "text/x-python",
   "name": "python",
   "nbconvert_exporter": "python",
   "pygments_lexer": "ipython3",
   "version": "3.8.3"
  }
 },
 "nbformat": 4,
 "nbformat_minor": 4
}
