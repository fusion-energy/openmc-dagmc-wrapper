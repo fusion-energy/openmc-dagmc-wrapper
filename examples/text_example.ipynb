{
 "cells": [
  {
   "cell_type": "markdown",
   "metadata": {},
   "source": [
    "A simple example of text being "
   ]
  },
  {
   "cell_type": "code",
   "execution_count": null,
   "metadata": {},
   "outputs": [],
   "source": [
    "import cadquery as cq\n",
    "import openmc\n",
    "import openmc_dagmc_wrapper\n",
    "\n",
    "coords = openmc.stats.Point((4, 1, 0.5))\n",
    "energy = openmc.stats.Discrete([1.41E7], [1.0])\n",
    "source = openmc.Source(space=coords, energy=energy)\n",
    "\n",
    "my_model = paramak_neutronics.NeutronicsModel(\n",
    "    h5m_filename=\"dagmc.h5m\",\n",
    "    source=source,\n",
    "    materials={'my_material': 'Li4SiO4'},\n",
    "    mesh_tally_3d=['heating', '(n,Xt)'],\n",
    "    simulation_batches=2,  # to get a good mesh tally result with will need increasing\n",
    "    mesh_3d_resolution=(850, 350, 10),\n",
    "    mesh_3d_corners=[(0, -1, -1), (8.5, 2.5, 0.5)],\n",
    ")\n",
    "\n",
    "my_model.simulate()"
   ]
  },
  {
   "cell_type": "code",
   "execution_count": null,
   "metadata": {},
   "outputs": [],
   "source": []
  }
 ],
 "metadata": {
  "interpreter": {
   "hash": "71893251c0b0cd78b546a9c905312457257aecf63dc5b51c6968316964f80317"
  },
  "kernelspec": {
   "display_name": "Python 3 (ipykernel)",
   "language": "python",
   "name": "python3"
  },
  "language_info": {
   "codemirror_mode": {
    "name": "ipython",
    "version": 3
   },
   "file_extension": ".py",
   "mimetype": "text/x-python",
   "name": "python",
   "nbconvert_exporter": "python",
   "pygments_lexer": "ipython3",
   "version": "3.8.5"
  }
 },
 "nbformat": 4,
 "nbformat_minor": 4
}
