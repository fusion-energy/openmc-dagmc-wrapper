{
 "cells": [
  {
   "cell_type": "markdown",
   "metadata": {},
   "source": [
    "A simple example of text being "
   ]
  },
  {
   "cell_type": "code",
   "execution_count": null,
   "metadata": {},
   "outputs": [],
   "source": [
    "import cadquery as cq\n",
    "import openmc\n",
    "import paramak\n",
    "import paramak_neutronics\n",
    "\n",
    "text = cq.Workplane().text( \n",
    "             txt=\"The Paramak can easily convert CAD\\nto neutronics models for simulations.\",\n",
    "             fontsize=0.5,\n",
    "             distance=-1,\n",
    "             cut=True,\n",
    "             halign=\"left\",\n",
    "             valign=\"bottom\",\n",
    "             font=\"Sans\"\n",
    ")\n",
    "\n",
    "# this creates an empty Shape and populates it with the CQ object\n",
    "my_shape = paramak.Shape()\n",
    "my_shape.solid = text\n",
    "my_shape.method = 'pymoab'\n",
    "my_shape.stl_filename = 'text.stl'\n",
    "my_shape.material_tag = 'my_material'\n",
    "my_shape.export_stp('text_cad.stp')\n",
    "\n",
    "coords = openmc.stats.Point((4, 1, 0.5))\n",
    "energy = openmc.stats.Discrete([1.41E7], [1.0])\n",
    "source = openmc.Source(space=coords, energy=energy)\n",
    "\n",
    "my_model = paramak_neutronics.NeutronicsModel(\n",
    "    h5m_filename=my_shape.export_h5m(),\n",
    "    source=source,\n",
    "    materials={'my_material': 'Li4SiO4'},\n",
    "    mesh_tally_3d=['heating', '(n,Xt)'],\n",
    "    simulation_batches=2,  # to get a good mesh tally result with will need increasing\n",
    "    mesh_3d_resolution=(850, 350, 10),\n",
    "    mesh_3d_corners=[(0, -1, -1), (8.5, 2.5, 0.5)],\n",
    ")\n",
    "\n",
    "my_model.simulate()\n"
   ]
  },
  {
   "cell_type": "code",
   "execution_count": null,
   "metadata": {},
   "outputs": [],
   "source": []
  }
 ],
 "metadata": {
  "interpreter": {
   "hash": "71893251c0b0cd78b546a9c905312457257aecf63dc5b51c6968316964f80317"
  },
  "kernelspec": {
   "display_name": "Python 3.8.10 64-bit ('cq': conda)",
   "name": "python3"
  },
  "language_info": {
   "name": "python",
   "version": ""
  }
 },
 "nbformat": 4,
 "nbformat_minor": 4
}