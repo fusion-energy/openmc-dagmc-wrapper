{
 "cells": [
  {
   "cell_type": "markdown",
   "metadata": {},
   "source": [
    "This example makes a reactor geometry and a neutronics model. A homogenised material made of enriched lithium lead and eurofer is being used as the blanket material for this simulation in order to demonstrate the use of more complex materials."
   ]
  },
  {
   "cell_type": "code",
   "execution_count": null,
   "metadata": {},
   "outputs": [],
   "source": [
    "import neutronics_material_maker as nmm\n",
    "import openmc"
   ]
  },
  {
   "cell_type": "code",
   "execution_count": null,
   "metadata": {},
   "outputs": [],
   "source": [
    "source = openmc.Source()\n",
    "radius = openmc.stats.Discrete([300], [1])  # at the major radius\n",
    "z_values = openmc.stats.Discrete([0], [1])  # middle of the plasma (vertically)\n",
    "angle = openmc.stats.Uniform(a=0., b=2 * 3.14159265359)  # 360 degrees\n",
    "source.space = openmc.stats.CylindricalIndependent(\n",
    "    r=radius,\n",
    "    phi=angle,\n",
    "    z=z_values,\n",
    "    origin=(0.0, 0.0, 0.0)\n",
    ")\n",
    "source.angle = openmc.stats.Isotropic()\n",
    "source.energy = openmc.stats.Discrete([14_060_000], [1])"
   ]
  },
  {
   "cell_type": "code",
   "execution_count": null,
   "metadata": {},
   "outputs": [],
   "source": [
    "import paramak_neutronics\n",
    "\n",
    "# makes the neutronics material\n",
    "neutronics_model = paramak_neutronics.NeutronicsModel(\n",
    "    h5m_filename=\"dagmc.h5m\",\n",
    "    source=source,\n",
    "    materials={\n",
    "        'inboard_tf_coils_mat': 'copper',\n",
    "        'center_column_shield_mat': 'WC',\n",
    "        'divertor_mat': 'eurofer',\n",
    "        'firstwall_mat': 'eurofer',\n",
    "        'blanket_mat': 'eurofer',\n",
    "        'blanket_rear_wall_mat': 'eurofer'},\n",
    ")"
   ]
  },
  {
   "cell_type": "code",
   "execution_count": null,
   "metadata": {},
   "outputs": [],
   "source": [
    "# exports the geometry and source in 2d (RZ) viewplane where R stands for\n",
    "# radius\n",
    "neutronics_model.export_html(\n",
    "    filename='2d_source.html',\n",
    "    view_plane='RZ',\n",
    "    number_of_source_particles=100\n",
    ")"
   ]
  },
  {
   "cell_type": "code",
   "execution_count": null,
   "metadata": {},
   "outputs": [],
   "source": [
    "# exports the geometry and source in 3d (XYZ) viewplane\n",
    "neutronics_model.export_html(\n",
    "    filename='3d_source.html',\n",
    "    view_plane='XYZ',\n",
    "    number_of_source_particles=100\n",
    ")"
   ]
  },
  {
   "cell_type": "code",
   "execution_count": null,
   "metadata": {},
   "outputs": [],
   "source": []
  }
 ],
 "metadata": {
  "interpreter": {
   "hash": "71893251c0b0cd78b546a9c905312457257aecf63dc5b51c6968316964f80317"
  },
  "kernelspec": {
   "display_name": "Python 3 (ipykernel)",
   "language": "python",
   "name": "python3"
  },
  "language_info": {
   "codemirror_mode": {
    "name": "ipython",
    "version": 3
   },
   "file_extension": ".py",
   "mimetype": "text/x-python",
   "name": "python",
   "nbconvert_exporter": "python",
   "pygments_lexer": "ipython3",
   "version": "3.9.5"
  }
 },
 "nbformat": 4,
 "nbformat_minor": 4
}
