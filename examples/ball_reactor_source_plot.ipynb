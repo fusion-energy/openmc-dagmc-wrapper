{
 "cells": [
  {
   "cell_type": "markdown",
   "metadata": {},
   "source": [
    "This example makes a reactor geometry and a neutronics model. A homogenised material made of enriched lithium lead and eurofer is being used as the blanket material for this simulation in order to demonstrate the use of more complex materials."
   ]
  },
  {
   "cell_type": "code",
   "execution_count": null,
   "metadata": {},
   "outputs": [],
   "source": [
    "import neutronics_material_maker as nmm\n",
    "import openmc\n",
    "import paramak\n",
    "\n",
    "\n",
    "# makes the 3d geometry\n",
    "my_reactor = paramak.BallReactor(\n",
    "    inner_bore_radial_thickness=10,\n",
    "    inboard_tf_leg_radial_thickness=30,\n",
    "    center_column_shield_radial_thickness=60,\n",
    "    divertor_radial_thickness=150,\n",
    "    inner_plasma_gap_radial_thickness=30,\n",
    "    plasma_radial_thickness=300,\n",
    "    outer_plasma_gap_radial_thickness=30,\n",
    "    firstwall_radial_thickness=30,\n",
    "    blanket_radial_thickness=50,\n",
    "    blanket_rear_wall_radial_thickness=30,\n",
    "    elongation=2,\n",
    "    triangularity=0.55,\n",
    "    outboard_tf_coil_radial_thickness=100,\n",
    "    outboard_tf_coil_poloidal_thickness=50,\n",
    "    rotation_angle=90,\n",
    ")\n",
    "\n",
    "# method is set to Trelis or Cubit by default to avoid overlaps in the geometry\n",
    "# pymoab is used as it is open source and can be tested in the CI\n",
    "# if you have Trelis or Cubit then this line can be deleted\n",
    "my_reactor.method='pymoab'\n",
    "\n",
    "my_reactor.show()"
   ]
  },
  {
   "cell_type": "code",
   "execution_count": null,
   "metadata": {},
   "outputs": [],
   "source": []
  },
  {
   "cell_type": "code",
   "execution_count": null,
   "metadata": {},
   "outputs": [],
   "source": [
    "source = openmc.Source()\n",
    "radius = openmc.stats.Discrete([300], [1])  # at the major radius\n",
    "z_values = openmc.stats.Discrete([0], [1])  # middle of the plasma (vertically)\n",
    "angle = openmc.stats.Uniform(a=0., b=2 * 3.14159265359)  # 360 degrees\n",
    "source.space = openmc.stats.CylindricalIndependent(\n",
    "    r=radius,\n",
    "    phi=angle,\n",
    "    z=z_values,\n",
    "    origin=(0.0, 0.0, 0.0)\n",
    ")\n",
    "source.angle = openmc.stats.Isotropic()\n",
    "source.energy = openmc.stats.Discrete([14_060_000], [1])"
   ]
  },
  {
   "cell_type": "code",
   "execution_count": null,
   "metadata": {},
   "outputs": [],
   "source": [
    "# makes the neutronics material\n",
    "neutronics_model = paramak.NeutronicsModel(\n",
    "    geometry=my_reactor,\n",
    "    source=source,\n",
    "    materials={\n",
    "        'inboard_tf_coils_mat': 'copper',\n",
    "        'center_column_shield_mat': 'WC',\n",
    "        'divertor_mat': 'eurofer',\n",
    "        'firstwall_mat': 'eurofer',\n",
    "        'blanket_mat': 'eurofer',\n",
    "        'blanket_rear_wall_mat': 'eurofer'},\n",
    ")"
   ]
  },
  {
   "cell_type": "code",
   "execution_count": null,
   "metadata": {},
   "outputs": [],
   "source": [
    "# exports the geometry and source in 2d (RZ) viewplane where R stands for\n",
    "# radius\n",
    "neutronics_model.export_html(\n",
    "    filename='2d_source.html',\n",
    "    view_plane='RZ',\n",
    "    number_of_source_particles=100\n",
    ")"
   ]
  },
  {
   "cell_type": "code",
   "execution_count": null,
   "metadata": {},
   "outputs": [],
   "source": [
    "# exports the geometry and source in 3d (XYZ) viewplane\n",
    "neutronics_model.export_html(\n",
    "    filename='3d_source.html',\n",
    "    view_plane='XYZ',\n",
    "    number_of_source_particles=100\n",
    ")"
   ]
  },
  {
   "cell_type": "code",
   "execution_count": null,
   "metadata": {},
   "outputs": [],
   "source": []
  }
 ],
 "metadata": {
  "kernelspec": {
   "display_name": "Python 3",
   "language": "python",
   "name": "python3"
  },
  "language_info": {
   "codemirror_mode": {
    "name": "ipython",
    "version": 3
   },
   "file_extension": ".py",
   "mimetype": "text/x-python",
   "name": "python",
   "nbconvert_exporter": "python",
   "pygments_lexer": "ipython3",
   "version": "3.8.3"
  }
 },
 "nbformat": 4,
 "nbformat_minor": 4
}
