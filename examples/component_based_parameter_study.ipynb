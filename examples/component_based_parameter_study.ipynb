{
 "cells": [
  {
   "cell_type": "markdown",
   "metadata": {},
   "source": [
    "This example creates a curved center column with a few different sizes.\n",
    "The shape is then converted into a neutronics geometry and the heat deposited\n",
    "is simulated for a few different sizes of ceter column."
   ]
  },
  {
   "cell_type": "code",
   "execution_count": null,
   "metadata": {},
   "outputs": [],
   "source": [
    "import openmc\n",
    "import openmc_dagmc_wrapper\n",
    "\n",
    "# makes the openmc neutron source at x,y,z 0, 0, 0 with isotropic\n",
    "# diections\n",
    "source = openmc.Source()\n",
    "source.space = openmc.stats.Point((0, 0, 0))\n",
    "source.angle = openmc.stats.Isotropic()\n",
    "\n",
    "# converts the geometry into a neutronics geometry\n",
    "my_model = paramak_neutronics.NeutronicsModel(\n",
    "    h5m_filename=\"dagmc.h5m\",\n",
    "    source=source,\n",
    "    materials={\n",
    "        'center_column_shield_mat': 'WB'},\n",
    "    # WB is tungsten boride\n",
    "    cell_tallies=['heating'],\n",
    ")\n",
    "\n",
    "# performs an openmc simulation on the model\n",
    "my_model.simulate(\n",
    "    simulation_batches=10,  # should be increased for more accurate result\n",
    "    simulation_particles_per_batch=10,  # settings are low to reduce time required\n",
    ")\n",
    "\n",
    "# extracts the heat from the results dictionary\n",
    "heat = my_model.results['center_column_shield_mat_heating']['Watts']['result']\n",
    "\n",
    "print(heat)"
   ]
  },
  {
   "cell_type": "code",
   "execution_count": null,
   "metadata": {},
   "outputs": [],
   "source": []
  }
 ],
 "metadata": {
  "interpreter": {
   "hash": "71893251c0b0cd78b546a9c905312457257aecf63dc5b51c6968316964f80317"
  },
  "kernelspec": {
   "display_name": "Python 3 (ipykernel)",
   "language": "python",
   "name": "python3"
  },
  "language_info": {
   "codemirror_mode": {
    "name": "ipython",
    "version": 3
   },
   "file_extension": ".py",
   "mimetype": "text/x-python",
   "name": "python",
   "nbconvert_exporter": "python",
   "pygments_lexer": "ipython3",
   "version": "3.9.5"
  }
 },
 "nbformat": 4,
 "nbformat_minor": 4
}
