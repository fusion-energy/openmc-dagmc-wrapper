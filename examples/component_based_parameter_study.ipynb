{
 "cells": [
  {
   "cell_type": "markdown",
   "metadata": {},
   "source": [
    "This example creates a curved center column with a few different sizes.\n",
    "The shape is then converted into a neutronics geometry and the heat deposited\n",
    "is simulated for a few different sizes of ceter column."
   ]
  },
  {
   "cell_type": "code",
   "execution_count": null,
   "metadata": {},
   "outputs": [],
   "source": [
    "import matplotlib.pyplot as plt\n",
    "import openmc\n",
    "import paramak\n",
    "import paramak_neutronics\n",
    "\n",
    "simulation_values = []\n",
    "for mid_radius in [60, 70, 80]:\n",
    "\n",
    "    # makes the component with a few different size mid radius values\n",
    "    my_shape = paramak.CenterColumnShieldHyperbola(\n",
    "        height=500,\n",
    "        inner_radius=50,\n",
    "        mid_radius=mid_radius,\n",
    "        outer_radius=100,\n",
    "        material_tag='center_column_shield_mat',\n",
    "        method='pymoab',\n",
    "    )\n",
    "\n",
    "    my_shape.export_stp('my_shape' + str(mid_radius) + '.stp')\n",
    "\n",
    "    # makes the openmc neutron source at x,y,z 0, 0, 0 with isotropic\n",
    "    # diections\n",
    "    source = openmc.Source()\n",
    "    source.space = openmc.stats.Point((0, 0, 0))\n",
    "    source.angle = openmc.stats.Isotropic()\n",
    "\n",
    "    # converts the geometry into a neutronics geometry\n",
    "    my_model = paramak_neutronics.NeutronicsModel(\n",
    "        h5m_filename=my_shape.export_h5m(),\n",
    "        source=source,\n",
    "        materials={\n",
    "            'center_column_shield_mat': 'WB'},\n",
    "        # WB is tungsten boride\n",
    "        cell_tallies=['heating'],\n",
    "        simulation_batches=10,  # should be increased for more accurate result\n",
    "        simulation_particles_per_batch=10,  # settings are low to reduce time required\n",
    "    )\n",
    "\n",
    "    # performs an openmc simulation on the model\n",
    "    my_model.simulate()\n",
    "\n",
    "    # extracts the heat from the results dictionary\n",
    "    heat = my_model.results['center_column_shield_mat_heating']['Watts']['result']\n",
    "\n",
    "    # adds the heat and the mid radius value to a list\n",
    "    simulation_values.append((mid_radius, heat))\n",
    "\n",
    "# plots the simualtion results vs the mid_radius used for the simulation\n",
    "plt.plot(\n",
    "    [i[0] for i in simulation_values],\n",
    "    [i[1] for i in simulation_values],\n",
    "    '-p'\n",
    ")\n",
    "\n",
    "# adds labels to the graph\n",
    "plt.title(\"heating vs thickness\")\n",
    "plt.xlabel(\"thickness (cm)\")\n",
    "plt.ylabel(\"heating (watts)\")\n",
    "\n",
    "plt.savefig('heating_vs_thickness.svg')\n",
    "plt.show()"
   ]
  },
  {
   "cell_type": "code",
   "execution_count": null,
   "metadata": {},
   "outputs": [],
   "source": []
  }
 ],
 "metadata": {
  "interpreter": {
   "hash": "71893251c0b0cd78b546a9c905312457257aecf63dc5b51c6968316964f80317"
  },
  "kernelspec": {
   "display_name": "Python 3.8.10 64-bit ('cq': conda)",
   "name": "python3"
  },
  "language_info": {
   "name": "python",
   "version": ""
  }
 },
 "nbformat": 4,
 "nbformat_minor": 4
}