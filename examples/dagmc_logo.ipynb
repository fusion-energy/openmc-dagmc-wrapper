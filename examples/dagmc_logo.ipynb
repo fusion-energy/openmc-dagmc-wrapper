{
 "cells": [
  {
   "cell_type": "code",
   "execution_count": 1,
   "metadata": {},
   "outputs": [],
   "source": [
    "import paramak"
   ]
  },
  {
   "cell_type": "code",
   "execution_count": 2,
   "metadata": {},
   "outputs": [
    {
     "name": "stdout",
     "output_type": "stream",
     "text": [
      "Overwriting auto display for cadquery Workplane and Shape\n"
     ]
    },
    {
     "data": {
      "application/vnd.jupyter.widget-view+json": {
       "model_id": "ef616b44bad94747a1dc335b245c0e41",
       "version_major": 2,
       "version_minor": 0
      },
      "text/plain": [
       "HBox(children=(VBox(children=(HBox(children=(Checkbox(value=False, description='Axes', indent=False, _dom_clas…"
      ]
     },
     "metadata": {},
     "output_type": "display_data"
    }
   ],
   "source": [
    "white_part_1 = paramak.CenterColumnShieldCylinder(\n",
    "    inner_radius=0,\n",
    "    outer_radius=50,\n",
    "    height=10,\n",
    "    color=(1,1,1)\n",
    ")\n",
    "\n",
    "white_part_1.show()"
   ]
  },
  {
   "cell_type": "code",
   "execution_count": 3,
   "metadata": {},
   "outputs": [
    {
     "data": {
      "application/vnd.jupyter.widget-view+json": {
       "model_id": "ef885bb494b24c93968c1094df163c73",
       "version_major": 2,
       "version_minor": 0
      },
      "text/plain": [
       "HBox(children=(VBox(children=(HBox(children=(Checkbox(value=False, description='Axes', indent=False, _dom_clas…"
      ]
     },
     "metadata": {},
     "output_type": "display_data"
    }
   ],
   "source": [
    "blue_part_1 = paramak.CenterColumnShieldCylinder(\n",
    "    inner_radius=50,\n",
    "    outer_radius=50+82,\n",
    "    height=10,\n",
    "    rotation_angle=360*(2/3),\n",
    "    color=(0.09,0.212,0.365)\n",
    ")\n",
    "\n",
    "blue_part_1.show()"
   ]
  },
  {
   "cell_type": "code",
   "execution_count": 4,
   "metadata": {},
   "outputs": [
    {
     "data": {
      "application/vnd.jupyter.widget-view+json": {
       "model_id": "ec067ff0f2f74ff996843396ee012fb7",
       "version_major": 2,
       "version_minor": 0
      },
      "text/plain": [
       "HBox(children=(VBox(children=(HBox(children=(Checkbox(value=False, description='Axes', indent=False, _dom_clas…"
      ]
     },
     "metadata": {},
     "output_type": "display_data"
    }
   ],
   "source": [
    "red_part_1 = paramak.CenterColumnShieldCylinder(\n",
    "    inner_radius=50+82,\n",
    "    outer_radius=50+82+140,\n",
    "    height=10,\n",
    "    rotation_angle=360*(2/3),\n",
    "    color=(0.753, 0, 0)\n",
    ")\n",
    "\n",
    "red_part_1.show()"
   ]
  },
  {
   "cell_type": "code",
   "execution_count": 5,
   "metadata": {},
   "outputs": [
    {
     "data": {
      "application/vnd.jupyter.widget-view+json": {
       "model_id": "76e1b4207b6a4067bcc7329fcdd2bcc9",
       "version_major": 2,
       "version_minor": 0
      },
      "text/plain": [
       "HBox(children=(VBox(children=(HBox(children=(Checkbox(value=False, description='Axes', indent=False, _dom_clas…"
      ]
     },
     "metadata": {},
     "output_type": "display_data"
    }
   ],
   "source": [
    "yellow_part_1 = paramak.CenterColumnShieldCylinder(\n",
    "    inner_radius=50,\n",
    "    outer_radius=50+82+140,\n",
    "    height=10,\n",
    "    rotation_angle=360*(1/3),\n",
    "    azimuth_placement_angle=360-(360*(1/3)),\n",
    "    color=(0.463, 0.573, 0.235)\n",
    ")\n",
    "\n",
    "yellow_part_1.show()"
   ]
  },
  {
   "cell_type": "code",
   "execution_count": 6,
   "metadata": {},
   "outputs": [
    {
     "data": {
      "application/vnd.jupyter.widget-view+json": {
       "model_id": "c5db0af75cb14018a31d3dc2f0e4a20a",
       "version_major": 2,
       "version_minor": 0
      },
      "text/plain": [
       "HBox(children=(VBox(children=(HBox(children=(Checkbox(value=False, description='Axes', indent=False, _dom_clas…"
      ]
     },
     "metadata": {},
     "output_type": "display_data"
    }
   ],
   "source": [
    "white_part_2 = paramak.CenterColumnShieldCylinder(\n",
    "    inner_radius=50+82+140,\n",
    "    outer_radius=50+82+140+64,\n",
    "    height=10,\n",
    "    color=(1,1,1)\n",
    ")\n",
    "\n",
    "white_part_2.show()"
   ]
  },
  {
   "cell_type": "code",
   "execution_count": 7,
   "metadata": {},
   "outputs": [
    {
     "data": {
      "application/vnd.jupyter.widget-view+json": {
       "model_id": "f9fe455134504df4a3534d51e3c844e2",
       "version_major": 2,
       "version_minor": 0
      },
      "text/plain": [
       "HBox(children=(VBox(children=(HBox(children=(Checkbox(value=False, description='Axes', indent=False, _dom_clas…"
      ]
     },
     "metadata": {},
     "output_type": "display_data"
    }
   ],
   "source": [
    "red_part_2 = paramak.CenterColumnShieldCylinder(\n",
    "    inner_radius=50+82+140+64,\n",
    "    outer_radius=50+82+140+64+111,\n",
    "    height=10,\n",
    "    rotation_angle=360*(1/4),\n",
    "    azimuth_placement_angle=170,\n",
    "    color=(1,0,0)\n",
    ")\n",
    "\n",
    "red_part_2.show()"
   ]
  },
  {
   "cell_type": "code",
   "execution_count": 8,
   "metadata": {},
   "outputs": [
    {
     "data": {
      "application/vnd.jupyter.widget-view+json": {
       "model_id": "be38cb5d079544ba982ae1006ac388c7",
       "version_major": 2,
       "version_minor": 0
      },
      "text/plain": [
       "HBox(children=(VBox(children=(HBox(children=(Checkbox(value=False, description='Axes', indent=False, _dom_clas…"
      ]
     },
     "metadata": {},
     "output_type": "display_data"
    }
   ],
   "source": [
    "yellow_part_2 = paramak.CenterColumnShieldCylinder(\n",
    "    inner_radius=50+82+140+64,\n",
    "    outer_radius=50+82+140+64+111,\n",
    "    height=10,\n",
    "    rotation_angle=360*(1/4),\n",
    "    azimuth_placement_angle=0,\n",
    "    color=(0.463, 0.573, 0.235)\n",
    ")\n",
    "\n",
    "yellow_part_2.show()"
   ]
  },
  {
   "cell_type": "code",
   "execution_count": 9,
   "metadata": {},
   "outputs": [
    {
     "data": {
      "application/vnd.jupyter.widget-view+json": {
       "model_id": "38ee6893f28d4a69a04bfbf47e427bee",
       "version_major": 2,
       "version_minor": 0
      },
      "text/plain": [
       "HBox(children=(VBox(children=(HBox(children=(Checkbox(value=False, description='Axes', indent=False, _dom_clas…"
      ]
     },
     "metadata": {},
     "output_type": "display_data"
    }
   ],
   "source": [
    "white_part_3 = paramak.CenterColumnShieldCylinder(\n",
    "    inner_radius=50+82+140+64,\n",
    "    outer_radius=50+82+140+64+111,\n",
    "    height=10,\n",
    "    rotation_angle=360*(1/4),\n",
    "    azimuth_placement_angle=80,\n",
    "    color=(1,1,1),\n",
    "    name='white_part_3'\n",
    ")\n",
    "\n",
    "white_part_3.show()"
   ]
  },
  {
   "cell_type": "code",
   "execution_count": 10,
   "metadata": {},
   "outputs": [
    {
     "data": {
      "application/vnd.jupyter.widget-view+json": {
       "model_id": "2fd1caf0e87a4025bd8a17d31754b73b",
       "version_major": 2,
       "version_minor": 0
      },
      "text/plain": [
       "HBox(children=(VBox(children=(HBox(children=(Checkbox(value=False, description='Axes', indent=False, _dom_clas…"
      ]
     },
     "metadata": {},
     "output_type": "display_data"
    }
   ],
   "source": [
    "blue_part_2 = paramak.CenterColumnShieldCylinder(\n",
    "    inner_radius=50+82+140+64,\n",
    "    outer_radius=50+82+140+64+111,\n",
    "    height=10,\n",
    "    rotation_angle=360*(1/4),\n",
    "    azimuth_placement_angle=-10,\n",
    "    color=(0.09,0.212,0.365),\n",
    "    name='blue_part_2'\n",
    ")\n",
    "\n",
    "blue_part_2.show()"
   ]
  },
  {
   "cell_type": "code",
   "execution_count": 11,
   "metadata": {},
   "outputs": [
    {
     "data": {
      "application/vnd.jupyter.widget-view+json": {
       "model_id": "5bd23ac314e0417baee8228d4c5322e0",
       "version_major": 2,
       "version_minor": 0
      },
      "text/plain": [
       "HBox(children=(VBox(children=(HBox(children=(Checkbox(value=False, description='Axes', indent=False, _dom_clas…"
      ]
     },
     "metadata": {},
     "output_type": "display_data"
    }
   ],
   "source": [
    "yellow_part_2 = paramak.CenterColumnShieldCylinder(\n",
    "    inner_radius=50+82+140+64,\n",
    "    outer_radius=50+82+140+64+111,\n",
    "    height=10,\n",
    "    rotation_angle=360*(1/4),\n",
    "    azimuth_placement_angle=260,\n",
    "    color=(0.463, 0.573, 0.235),\n",
    "    name='yellow_part_2'\n",
    ")\n",
    "\n",
    "yellow_part_2.show()"
   ]
  },
  {
   "cell_type": "code",
   "execution_count": 12,
   "metadata": {},
   "outputs": [
    {
     "data": {
      "application/vnd.jupyter.widget-view+json": {
       "model_id": "8363e794e6204fb39f95c0ffa32bb69b",
       "version_major": 2,
       "version_minor": 0
      },
      "text/plain": [
       "HBox(children=(VBox(children=(HBox(children=(Checkbox(value=False, description='Axes', indent=False, _dom_clas…"
      ]
     },
     "metadata": {},
     "output_type": "display_data"
    }
   ],
   "source": [
    "all_parts = paramak.Reactor([yellow_part_1, yellow_part_2, white_part_1, white_part_2, white_part_3, red_part_1, red_part_2, blue_part_1, blue_part_2])\n",
    "all_parts.show()"
   ]
  },
  {
   "cell_type": "code",
   "execution_count": null,
   "metadata": {},
   "outputs": [],
   "source": []
  },
  {
   "cell_type": "code",
   "execution_count": null,
   "metadata": {},
   "outputs": [],
   "source": []
  }
 ],
 "metadata": {
  "kernelspec": {
   "display_name": "Python 3",
   "language": "python",
   "name": "python3"
  },
  "language_info": {
   "codemirror_mode": {
    "name": "ipython",
    "version": 3
   },
   "file_extension": ".py",
   "mimetype": "text/x-python",
   "name": "python",
   "nbconvert_exporter": "python",
   "pygments_lexer": "ipython3",
   "version": "3.8.3"
  }
 },
 "nbformat": 4,
 "nbformat_minor": 4
}
