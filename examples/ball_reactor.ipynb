{
 "cells": [
  {
   "cell_type": "markdown",
   "metadata": {},
   "source": [
    "This example makes a reactor geometry and a neutronics model. A homogenised material made of enriched lithium lead and eurofer is being used as the blanket material for this simulation in order to demonstrate the use of more complex materials."
   ]
  },
  {
   "cell_type": "code",
   "execution_count": null,
   "metadata": {},
   "outputs": [],
   "source": [
    "import neutronics_material_maker as nmm\n",
    "import openmc\n",
    "import paramak\n",
    "\n",
    "# makes the 3d geometry\n",
    "my_reactor = paramak.BallReactor(\n",
    "    inner_bore_radial_thickness=1,\n",
    "    inboard_tf_leg_radial_thickness=30,\n",
    "    center_column_shield_radial_thickness=60,\n",
    "    divertor_radial_thickness=50,\n",
    "    inner_plasma_gap_radial_thickness=30,\n",
    "    plasma_radial_thickness=300,\n",
    "    outer_plasma_gap_radial_thickness=30,\n",
    "    firstwall_radial_thickness=3,\n",
    "    blanket_radial_thickness=100,\n",
    "    blanket_rear_wall_radial_thickness=3,\n",
    "    elongation=2.75,\n",
    "    triangularity=0.5,\n",
    "    number_of_tf_coils=16,\n",
    "    rotation_angle=359.9,  # when using trelis method this can be set to 360\n",
    ")\n",
    "\n",
    "# method is set to Trelis or Cubit by default to avoid overlaps in the geometry\n",
    "# pymoab is used as it is open source and can be tested in the CI\n",
    "# if you have Trelis or Cubit then this line can be deleted\n",
    "my_reactor.method='pymoab'\n",
    "\n",
    "# makes a homogenised material for the blanket from lithium lead and\n",
    "# eurofer\n",
    "blanket_material = nmm.Material.from_mixture(\n",
    "    fracs=[0.8, 0.2],\n",
    "    materials=[\n",
    "        nmm.Material.from_library(\n",
    "            name='Pb842Li158',\n",
    "            enrichment=90,\n",
    "            temperature=500),\n",
    "        nmm.Material.from_library(name='eurofer')\n",
    "    ])\n",
    "\n",
    "source = openmc.Source()\n",
    "# sets the location of the source to x=0 y=0 z=0\n",
    "source.space = openmc.stats.Point((my_reactor.major_radius, 0, 0))\n",
    "# sets the direction to isotropic\n",
    "source.angle = openmc.stats.Isotropic()\n",
    "# sets the energy distribution to 100% 14MeV neutrons\n",
    "source.energy = openmc.stats.Discrete([14e6], [1])\n",
    "\n",
    "# makes the neutronics material\n",
    "neutronics_model = paramak.NeutronicsModel(\n",
    "    geometry=my_reactor,\n",
    "    source=source,\n",
    "    materials={\n",
    "        'inboard_tf_coils_mat': 'copper',\n",
    "        'center_column_shield_mat': 'WC',\n",
    "        'divertor_mat': 'eurofer',\n",
    "        'firstwall_mat': 'eurofer',\n",
    "        'blanket_mat': blanket_material,  # use of homogenised material\n",
    "        'blanket_rear_wall_mat': 'eurofer'},\n",
    "    cell_tallies=['TBR'],\n",
    "    simulation_batches=2,\n",
    "    simulation_particles_per_batch=10,  # this will need increasing to obtain accurate results\n",
    ")\n",
    "\n",
    "# starts the neutronics simulation\n",
    "neutronics_model.simulate()\n",
    "\n",
    "# prints the results to screen\n",
    "print('TBR', neutronics_model.results['TBR'])"
   ]
  }
 ],
 "metadata": {
  "kernelspec": {
   "display_name": "Python 3",
   "language": "python",
   "name": "python3"
  },
  "language_info": {
   "codemirror_mode": {
    "name": "ipython",
    "version": 3
   },
   "file_extension": ".py",
   "mimetype": "text/x-python",
   "name": "python",
   "nbconvert_exporter": "python",
   "pygments_lexer": "ipython3",
   "version": "3.8.3"
  }
 },
 "nbformat": 4,
 "nbformat_minor": 4
}
