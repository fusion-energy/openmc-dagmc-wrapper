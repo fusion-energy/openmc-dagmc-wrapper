{
 "cells": [
  {
   "cell_type": "markdown",
   "metadata": {},
   "source": [
    "This example makes a reactor geometry and a neutronics model. A homogenised material made of enriched lithium lead and eurofer is being used as the blanket material for this simulation in order to demonstrate the use of more complex materials."
   ]
  },
  {
   "cell_type": "code",
   "execution_count": null,
   "metadata": {},
   "outputs": [],
   "source": [
    "import neutronics_material_maker as nmm\n",
    "import openmc\n",
    "import openmc_dagmc_wrapper as odw\n",
    "\n",
    "# makes a homogenised material for the blanket from lithium lead and\n",
    "# eurofer\n",
    "blanket_material = nmm.Material.from_mixture(\n",
    "    fracs=[0.8, 0.2],\n",
    "    materials=[\n",
    "        nmm.Material.from_library(\n",
    "            name='Pb842Li158',\n",
    "            enrichment=90,\n",
    "            temperature=500),\n",
    "        nmm.Material.from_library(name='eurofer')\n",
    "    ])\n",
    "\n",
    "source = openmc.Source()\n",
    "# sets the location of the source to x=0 y=0 z=0\n",
    "source.space = openmc.stats.Point((450, 0, 0))\n",
    "# sets the direction to isotropic\n",
    "source.angle = openmc.stats.Isotropic()\n",
    "# sets the energy distribution to 100% 14MeV neutrons\n",
    "source.energy = openmc.stats.Discrete([14e6], [1])\n",
    "\n",
    "# makes the neutronics material\n",
    "neutronics_model = odw.NeutronicsModel(\n",
    "    h5m_filename='dagmc.h5m,\n",
    "    source=source,\n",
    "    materials={\n",
    "        'inboard_tf_coils_mat': 'copper',\n",
    "        'center_column_shield_mat': 'WC',\n",
    "        'divertor_mat': 'eurofer',\n",
    "        'firstwall_mat': 'eurofer',\n",
    "        'blanket_mat': blanket_material,  # use of homogenised material\n",
    "        'blanket_rear_wall_mat': 'eurofer'},\n",
    "    cell_tallies=['TBR'],\n",
    ")\n",
    "\n",
    "# starts the neutronics simulation\n",
    "h5m_filename = neutronics_model.simulate(\n",
    "    simulation_batches=2,\n",
    "    simulation_particles_per_batch=10,  # this will need increasing to obtain accurate results\n",
    ")\n",
    "\n",
    "# extracts and processes the results from the statepoint file\n",
    "odw.process_results(statepoint_filename=h5m_filename)\n",
    "\n",
    "# prints the results to screen\n",
    "print('TBR', neutronics_model.results['TBR'])"
   ]
  },
  {
   "cell_type": "code",
   "execution_count": null,
   "metadata": {},
   "outputs": [],
   "source": []
  }
 ],
 "metadata": {
  "interpreter": {
   "hash": "71893251c0b0cd78b546a9c905312457257aecf63dc5b51c6968316964f80317"
  },
  "kernelspec": {
   "display_name": "Python 3 (ipykernel)",
   "language": "python",
   "name": "python3"
  },
  "language_info": {
   "codemirror_mode": {
    "name": "ipython",
    "version": 3
   },
   "file_extension": ".py",
   "mimetype": "text/x-python",
   "name": "python",
   "nbconvert_exporter": "python",
   "pygments_lexer": "ipython3",
   "version": "3.8.11"
  }
 },
 "nbformat": 4,
 "nbformat_minor": 4
}
