{
 "cells": [
  {
   "cell_type": "markdown",
   "metadata": {},
   "source": [
    "This is a minimal example that obtains the TBR (Tritium Breeding Ratio) for a simplified fusion reactor"
   ]
  },
  {
   "cell_type": "markdown",
   "metadata": {},
   "source": [
    "imports required packages"
   ]
  },
  {
   "cell_type": "code",
   "execution_count": 5,
   "metadata": {},
   "outputs": [],
   "source": [
    "import openmc\n",
    "import openmc_dagmc_wrapper as odw\n",
    "import dagmc_h5m_file_inspector as di\n",
    "import tarfile\n",
    "import urllib.request\n",
    "# import openmc_data_donloader todo add ability to downlad materials in a nmm material"
   ]
  },
  {
   "cell_type": "markdown",
   "metadata": {},
   "source": [
    "Downloads an example h5m file made using the Paramak and cad_to_h5m python packages."
   ]
  },
  {
   "cell_type": "code",
   "execution_count": 9,
   "metadata": {},
   "outputs": [],
   "source": [
    "url = \"https://github.com/fusion-energy/neutronics_workflow/archive/refs/tags/v0.0.2.tar.gz\"\n",
    "urllib.request.urlretrieve(url, \"v0.0.2.tar.gz\")\n",
    "\n",
    "tar = tarfile.open(\"v0.0.2.tar.gz\", \"r:gz\")\n",
    "tar.extractall(\".\")\n",
    "tar.close()\n",
    "\n",
    "h5m_filename = \"neutronics_workflow-0.0.2/example_02_multi_volume_cell_tally/stage_2_output/dagmc.h5m\""
   ]
  },
  {
   "cell_type": "markdown",
   "metadata": {},
   "source": [
    "Creates a simple openmc point source"
   ]
  },
  {
   "cell_type": "code",
   "execution_count": 13,
   "metadata": {},
   "outputs": [
    {
     "data": {
      "text/plain": [
       "['blanket_mat',\n",
       " 'blanket_rear_wall_mat',\n",
       " 'center_column_shield_mat',\n",
       " 'divertor_mat',\n",
       " 'firstwall_mat',\n",
       " 'graveyard',\n",
       " 'inboard_tf_coils_mat',\n",
       " 'pf_coil_case_mat',\n",
       " 'pf_coil_mat',\n",
       " 'tf_coil_mat']"
      ]
     },
     "execution_count": 13,
     "metadata": {},
     "output_type": "execute_result"
    }
   ],
   "source": [
    "di.get_materials_from_h5m(h5m_filename)"
   ]
  },
  {
   "cell_type": "code",
   "execution_count": 11,
   "metadata": {},
   "outputs": [],
   "source": [
    "source = openmc.Source()\n",
    "# sets the location of the source to x=0 y=0 z=0\n",
    "source.space = openmc.stats.Point((450, 0, 0))\n",
    "# sets the direction to isotropic\n",
    "source.angle = openmc.stats.Isotropic()\n",
    "# sets the energy distribution to 100% 14MeV neutrons\n",
    "source.energy = openmc.stats.Discrete([14e6], [1])"
   ]
  },
  {
   "cell_type": "markdown",
   "metadata": {},
   "source": [
    "Creates a NeutronicsModel object with the h5m file, openmc source and materials from the neutronic_material_maker database"
   ]
  },
  {
   "cell_type": "code",
   "execution_count": 18,
   "metadata": {},
   "outputs": [],
   "source": [
    "# makes the neutronics model from the geometry and material allocations\n",
    "my_model = odw.NeutronicsModel(\n",
    "    h5m_filename=h5m_filename,\n",
    "    source=source,\n",
    "    materials={\n",
    "         'blanket_mat':'Li4SiO4',\n",
    "         'blanket_rear_wall_mat':'eurofer',\n",
    "         'center_column_shield_mat':'eurofer',\n",
    "         'divertor_mat':'eurofer',\n",
    "         'firstwall_mat':'eurofer',\n",
    "         'inboard_tf_coils_mat':'eurofer',\n",
    "         'pf_coil_case_mat':'eurofer',\n",
    "         'pf_coil_mat':'eurofer',\n",
    "         'tf_coil_mat':'eurofer'\n",
    "    },\n",
    "    cell_tallies=['TBR', 'heating'],\n",
    ")"
   ]
  },
  {
   "cell_type": "markdown",
   "metadata": {},
   "source": [
    "Exports the xml files needed by openmc to perform the simulation. The number of batch and particles would need increasing to obtain accurate results."
   ]
  },
  {
   "cell_type": "code",
   "execution_count": 19,
   "metadata": {},
   "outputs": [
    {
     "name": "stderr",
     "output_type": "stream",
     "text": [
      "/opt/openmc/openmc/mixin.py:67: IDWarning:\n",
      "\n",
      "Another Filter instance already exists with id=1.\n",
      "\n",
      "/opt/openmc/openmc/mixin.py:67: IDWarning:\n",
      "\n",
      "Another Filter instance already exists with id=2.\n",
      "\n",
      "/opt/openmc/openmc/mixin.py:67: IDWarning:\n",
      "\n",
      "Another Filter instance already exists with id=3.\n",
      "\n",
      "/opt/openmc/openmc/mixin.py:67: IDWarning:\n",
      "\n",
      "Another Filter instance already exists with id=4.\n",
      "\n",
      "/opt/openmc/openmc/mixin.py:67: IDWarning:\n",
      "\n",
      "Another Filter instance already exists with id=5.\n",
      "\n",
      "/opt/openmc/openmc/mixin.py:67: IDWarning:\n",
      "\n",
      "Another Filter instance already exists with id=6.\n",
      "\n",
      "/opt/openmc/openmc/mixin.py:67: IDWarning:\n",
      "\n",
      "Another Filter instance already exists with id=7.\n",
      "\n",
      "/opt/openmc/openmc/mixin.py:67: IDWarning:\n",
      "\n",
      "Another Filter instance already exists with id=8.\n",
      "\n",
      "/opt/openmc/openmc/mixin.py:67: IDWarning:\n",
      "\n",
      "Another Filter instance already exists with id=9.\n",
      "\n"
     ]
    },
    {
     "data": {
      "text/plain": [
       "<openmc.model.model.Model at 0x7ffac9c1c970>"
      ]
     },
     "execution_count": 19,
     "metadata": {},
     "output_type": "execute_result"
    }
   ],
   "source": [
    "my_model.export_xml(\n",
    "    simulation_batches=2,\n",
    "    simulation_particles_per_batch=100\n",
    ")"
   ]
  },
  {
   "cell_type": "markdown",
   "metadata": {},
   "source": [
    "Simulates the model using openmc"
   ]
  },
  {
   "cell_type": "code",
   "execution_count": 21,
   "metadata": {},
   "outputs": [
    {
     "name": "stdout",
     "output_type": "stream",
     "text": [
      "<openmc.settings.Settings object at 0x7ffac9c0ea30>\n",
      "                                %%%%%%%%%%%%%%%\n",
      "                           %%%%%%%%%%%%%%%%%%%%%%%%\n",
      "                        %%%%%%%%%%%%%%%%%%%%%%%%%%%%%%\n",
      "                      %%%%%%%%%%%%%%%%%%%%%%%%%%%%%%%%%%\n",
      "                    %%%%%%%%%%%%%%%%%%%%%%%%%%%%%%%%%%%%%%\n",
      "                   %%%%%%%%%%%%%%%%%%%%%%%%%%%%%%%%%%%%%%%%\n",
      "                                    %%%%%%%%%%%%%%%%%%%%%%%%\n",
      "                                     %%%%%%%%%%%%%%%%%%%%%%%%\n",
      "                 ###############      %%%%%%%%%%%%%%%%%%%%%%%%\n",
      "                ##################     %%%%%%%%%%%%%%%%%%%%%%%\n",
      "                ###################     %%%%%%%%%%%%%%%%%%%%%%%\n",
      "                ####################     %%%%%%%%%%%%%%%%%%%%%%\n",
      "                #####################     %%%%%%%%%%%%%%%%%%%%%\n",
      "                ######################     %%%%%%%%%%%%%%%%%%%%\n",
      "                #######################     %%%%%%%%%%%%%%%%%%\n",
      "                 #######################     %%%%%%%%%%%%%%%%%\n",
      "                 ######################     %%%%%%%%%%%%%%%%%\n",
      "                  ####################     %%%%%%%%%%%%%%%%%\n",
      "                    #################     %%%%%%%%%%%%%%%%%\n",
      "                     ###############     %%%%%%%%%%%%%%%%\n",
      "                       ############     %%%%%%%%%%%%%%%\n",
      "                          ########     %%%%%%%%%%%%%%\n",
      "                                      %%%%%%%%%%%\n",
      "\n",
      "                   | The OpenMC Monte Carlo Code\n",
      "         Copyright | 2011-2021 MIT and OpenMC contributors\n",
      "           License | https://docs.openmc.org/en/latest/license.html\n",
      "           Version | 0.13.0-dev\n",
      "          Git SHA1 | 209fdd86ed14a16d4b73e9c44de8a9710a898e64\n",
      "         Date/Time | 2021-09-20 22:44:32\n",
      "     MPI Processes | 1\n",
      "    OpenMP Threads | 8\n",
      "\n",
      " Reading settings XML file...\n",
      " Reading cross sections XML file...\n",
      " Reading materials XML file...\n",
      " Reading geometry XML file...\n",
      "Using the DOUBLE-DOWN interface to Embree.\n",
      "Loading file neutronics_workflow-0.0.2/example_02_multi_volume_cell_tally/stage_2_output/dagmc.h5m\n",
      "Initializing the GeomQueryTool...\n",
      "Using faceting tolerance: 0.01\n",
      "Building acceleration data structures...\n",
      "Implicit Complement assumed to be Vacuum\n",
      " Reading Li6 from /home/jshim/nuc_data/cross_section_data/ENDFB-7.1-NNDC_Li6.h5\n",
      " Reading Li from /home/jshim/nuc_data/cross_section_data/ENDFB-7.1-NNDC_Li.h5 \n",
      " Reading Li7 from /home/jshim/nuc_data/cross_section_data/ENDFB-7.1-NNDC_Li7.h5\n",
      " Reading Si29 from\n",
      " /home/jshim/nuc_data/cross_section_data/ENDFB-7.1-NNDC_Si29.h5\n",
      " Reading Si from /home/jshim/nuc_data/cross_section_data/ENDFB-7.1-NNDC_Si.h5 \n",
      " Reading Si30 from\n",
      " /home/jshim/nuc_data/cross_section_data/ENDFB-7.1-NNDC_Si30.h5\n",
      " Reading Si28 from\n",
      " /home/jshim/nuc_data/cross_section_data/ENDFB-7.1-NNDC_Si28.h5\n",
      " Reading O16 from /home/jshim/nuc_data/cross_section_data/ENDFB-7.1-NNDC_O16.h5\n",
      " Reading O from /home/jshim/nuc_data/cross_section_data/ENDFB-7.1-NNDC_O.h5 \n",
      " Reading O17 from /home/jshim/nuc_data/cross_section_data/ENDFB-7.1-NNDC_O17.h5\n",
      " Reading O18 from /home/jshim/nuc_data/cross_section_data/TENDL-2019_O18.h5\n",
      " Reading Fe57 from\n",
      " /home/jshim/nuc_data/cross_section_data/ENDFB-7.1-NNDC_Fe57.h5\n",
      " Reading Fe from /home/jshim/nuc_data/cross_section_data/ENDFB-7.1-NNDC_Fe.h5 \n",
      " Reading Fe56 from\n",
      " /home/jshim/nuc_data/cross_section_data/ENDFB-7.1-NNDC_Fe56.h5\n",
      " Reading Fe54 from\n",
      " /home/jshim/nuc_data/cross_section_data/ENDFB-7.1-NNDC_Fe54.h5\n",
      " Reading Fe58 from\n",
      " /home/jshim/nuc_data/cross_section_data/ENDFB-7.1-NNDC_Fe58.h5\n",
      " Reading B11 from /home/jshim/nuc_data/cross_section_data/ENDFB-7.1-NNDC_B11.h5\n",
      " Reading B from /home/jshim/nuc_data/cross_section_data/ENDFB-7.1-NNDC_B.h5 \n",
      " Reading B10 from /home/jshim/nuc_data/cross_section_data/ENDFB-7.1-NNDC_B10.h5\n",
      " Reading C12 from /home/jshim/nuc_data/cross_section_data/TENDL-2019_C12.h5\n",
      " Reading C from /home/jshim/nuc_data/cross_section_data/ENDFB-7.1-NNDC_C.h5 \n",
      " Reading C13 from /home/jshim/nuc_data/cross_section_data/TENDL-2019_C13.h5\n",
      " Reading N14 from /home/jshim/nuc_data/cross_section_data/ENDFB-7.1-NNDC_N14.h5\n",
      " Reading N from /home/jshim/nuc_data/cross_section_data/ENDFB-7.1-NNDC_N.h5 \n",
      " Reading N15 from /home/jshim/nuc_data/cross_section_data/ENDFB-7.1-NNDC_N15.h5\n",
      " Reading Al27 from\n",
      " /home/jshim/nuc_data/cross_section_data/ENDFB-7.1-NNDC_Al27.h5\n",
      " Reading Al from /home/jshim/nuc_data/cross_section_data/ENDFB-7.1-NNDC_Al.h5 \n",
      " Reading P31 from /home/jshim/nuc_data/cross_section_data/ENDFB-7.1-NNDC_P31.h5\n",
      " Reading P from /home/jshim/nuc_data/cross_section_data/ENDFB-7.1-NNDC_P.h5 \n",
      " Reading S34 from /home/jshim/nuc_data/cross_section_data/ENDFB-7.1-NNDC_S34.h5\n",
      " Reading S from /home/jshim/nuc_data/cross_section_data/ENDFB-7.1-NNDC_S.h5 \n",
      " Reading S33 from /home/jshim/nuc_data/cross_section_data/ENDFB-7.1-NNDC_S33.h5\n",
      " Reading S36 from /home/jshim/nuc_data/cross_section_data/ENDFB-7.1-NNDC_S36.h5\n",
      " Reading S32 from /home/jshim/nuc_data/cross_section_data/ENDFB-7.1-NNDC_S32.h5\n",
      " Reading Ti47 from\n",
      " /home/jshim/nuc_data/cross_section_data/ENDFB-7.1-NNDC_Ti47.h5\n",
      " Reading Ti from /home/jshim/nuc_data/cross_section_data/ENDFB-7.1-NNDC_Ti.h5 \n",
      " Reading Ti50 from\n",
      " /home/jshim/nuc_data/cross_section_data/ENDFB-7.1-NNDC_Ti50.h5\n",
      " Reading Ti48 from\n",
      " /home/jshim/nuc_data/cross_section_data/ENDFB-7.1-NNDC_Ti48.h5\n",
      " Reading Ti46 from\n",
      " /home/jshim/nuc_data/cross_section_data/ENDFB-7.1-NNDC_Ti46.h5\n",
      " Reading Ti49 from\n",
      " /home/jshim/nuc_data/cross_section_data/ENDFB-7.1-NNDC_Ti49.h5\n",
      " Reading V51 from /home/jshim/nuc_data/cross_section_data/ENDFB-7.1-NNDC_V51.h5\n",
      " Reading V from /home/jshim/nuc_data/cross_section_data/ENDFB-7.1-NNDC_V.h5 \n",
      " Reading V50 from /home/jshim/nuc_data/cross_section_data/ENDFB-7.1-NNDC_V50.h5\n",
      " Reading Cr50 from\n",
      " /home/jshim/nuc_data/cross_section_data/ENDFB-7.1-NNDC_Cr50.h5\n",
      " Reading Cr from /home/jshim/nuc_data/cross_section_data/ENDFB-7.1-NNDC_Cr.h5 \n",
      " Reading Cr52 from\n",
      " /home/jshim/nuc_data/cross_section_data/ENDFB-7.1-NNDC_Cr52.h5\n",
      " Reading Cr53 from\n",
      " /home/jshim/nuc_data/cross_section_data/ENDFB-7.1-NNDC_Cr53.h5\n",
      " Reading Cr54 from\n",
      " /home/jshim/nuc_data/cross_section_data/ENDFB-7.1-NNDC_Cr54.h5\n",
      " Reading Mn55 from\n",
      " /home/jshim/nuc_data/cross_section_data/ENDFB-7.1-NNDC_Mn55.h5\n",
      " Reading Mn from /home/jshim/nuc_data/cross_section_data/ENDFB-7.1-NNDC_Mn.h5 \n",
      " Reading Co59 from\n",
      " /home/jshim/nuc_data/cross_section_data/ENDFB-7.1-NNDC_Co59.h5\n",
      " Reading Co from /home/jshim/nuc_data/cross_section_data/ENDFB-7.1-NNDC_Co.h5 \n",
      " Reading Ni60 from\n",
      " /home/jshim/nuc_data/cross_section_data/ENDFB-7.1-NNDC_Ni60.h5\n",
      " Reading Ni from /home/jshim/nuc_data/cross_section_data/ENDFB-7.1-NNDC_Ni.h5 \n",
      " Reading Ni61 from\n",
      " /home/jshim/nuc_data/cross_section_data/ENDFB-7.1-NNDC_Ni61.h5\n",
      " Reading Ni64 from\n",
      " /home/jshim/nuc_data/cross_section_data/ENDFB-7.1-NNDC_Ni64.h5\n",
      " Reading Ni62 from\n",
      " /home/jshim/nuc_data/cross_section_data/ENDFB-7.1-NNDC_Ni62.h5\n",
      " Reading Ni58 from\n",
      " /home/jshim/nuc_data/cross_section_data/ENDFB-7.1-NNDC_Ni58.h5\n",
      " Reading Cu63 from\n",
      " /home/jshim/nuc_data/cross_section_data/ENDFB-7.1-NNDC_Cu63.h5\n",
      " Reading Cu from /home/jshim/nuc_data/cross_section_data/ENDFB-7.1-NNDC_Cu.h5 \n",
      " Reading Cu65 from\n",
      " /home/jshim/nuc_data/cross_section_data/ENDFB-7.1-NNDC_Cu65.h5\n",
      " Reading Nb93 from\n",
      " /home/jshim/nuc_data/cross_section_data/ENDFB-7.1-NNDC_Nb93.h5\n",
      " Reading Nb from /home/jshim/nuc_data/cross_section_data/ENDFB-7.1-NNDC_Nb.h5 \n",
      " Reading Mo92 from\n",
      " /home/jshim/nuc_data/cross_section_data/ENDFB-7.1-NNDC_Mo92.h5\n",
      " Reading Mo from /home/jshim/nuc_data/cross_section_data/ENDFB-7.1-NNDC_Mo.h5 \n",
      " Reading Mo98 from\n",
      " /home/jshim/nuc_data/cross_section_data/ENDFB-7.1-NNDC_Mo98.h5\n",
      " Reading Mo95 from\n",
      " /home/jshim/nuc_data/cross_section_data/ENDFB-7.1-NNDC_Mo95.h5\n",
      " Reading Mo94 from\n",
      " /home/jshim/nuc_data/cross_section_data/ENDFB-7.1-NNDC_Mo94.h5\n",
      " Reading Mo97 from\n",
      " /home/jshim/nuc_data/cross_section_data/ENDFB-7.1-NNDC_Mo97.h5\n",
      " Reading Mo100 from\n",
      " /home/jshim/nuc_data/cross_section_data/ENDFB-7.1-NNDC_Mo100.h5\n",
      " Reading Mo96 from\n",
      " /home/jshim/nuc_data/cross_section_data/ENDFB-7.1-NNDC_Mo96.h5\n",
      " Reading Ta180 from\n",
      " /home/jshim/nuc_data/cross_section_data/ENDFB-7.1-NNDC_Ta180.h5\n",
      " Reading Ta from /home/jshim/nuc_data/cross_section_data/ENDFB-7.1-NNDC_Ta.h5 \n",
      " Reading Ta181 from\n",
      " /home/jshim/nuc_data/cross_section_data/ENDFB-7.1-NNDC_Ta181.h5\n",
      " Reading W180 from\n",
      " /home/jshim/nuc_data/cross_section_data/ENDFB-7.1-NNDC_W180.h5\n",
      " Reading W from /home/jshim/nuc_data/cross_section_data/ENDFB-7.1-NNDC_W.h5 \n",
      " Reading W186 from\n",
      " /home/jshim/nuc_data/cross_section_data/ENDFB-7.1-NNDC_W186.h5\n",
      " Reading W183 from\n",
      " /home/jshim/nuc_data/cross_section_data/ENDFB-7.1-NNDC_W183.h5\n",
      " Reading W184 from\n",
      " /home/jshim/nuc_data/cross_section_data/ENDFB-7.1-NNDC_W184.h5\n",
      " Reading W182 from\n",
      " /home/jshim/nuc_data/cross_section_data/ENDFB-7.1-NNDC_W182.h5\n",
      " Minimum neutron data temperature: 294.0 K\n",
      " Maximum neutron data temperature: 294.0 K\n",
      " Reading tallies XML file...\n",
      " Preparing distributed cell instances...\n",
      " Writing summary.h5 file...\n",
      " Maximum neutron transport energy: 20000000.0 eV for Li6\n",
      "\n",
      " ===============>     FIXED SOURCE TRANSPORT SIMULATION     <===============\n",
      "\n",
      " Simulating batch 1\n",
      " Simulating batch 2\n",
      " Creating state point statepoint.2.h5...\n",
      "\n",
      " =======================>     TIMING STATISTICS     <=======================\n",
      "\n",
      " Total time for initialization     = 4.3725e+00 seconds\n",
      "   Reading cross sections          = 3.5147e+00 seconds\n",
      " Total time in simulation          = 1.1512e-01 seconds\n",
      "   Time in transport only          = 1.0489e-01 seconds\n",
      "   Time in active batches          = 1.1512e-01 seconds\n",
      "   Time accumulating tallies       = 1.1018e-04 seconds\n",
      "   Time writing statepoints        = 9.9868e-03 seconds\n",
      " Total time for finalization       = 2.1243e-04 seconds\n",
      " Total time elapsed                = 4.5004e+00 seconds\n",
      " Calculation Rate (active)         = 1737.31 particles/second\n",
      "\n",
      " ============================>     RESULTS     <============================\n",
      "\n",
      " Leakage Fraction            = 1.09500 +/- 0.03500\n",
      "\n"
     ]
    }
   ],
   "source": [
    "statepoint_filename = my_model.simulate()\n"
   ]
  },
  {
   "cell_type": "markdown",
   "metadata": {},
   "source": [
    "extracts and processes the results from the statepoint file"
   ]
  },
  {
   "cell_type": "code",
   "execution_count": 25,
   "metadata": {},
   "outputs": [
    {
     "name": "stdout",
     "output_type": "stream",
     "text": [
      "processing TBR\n",
      "processing blanket_mat_TBR\n",
      "processing blanket_rear_wall_mat_TBR\n",
      "processing center_column_shield_mat_TBR\n",
      "processing divertor_mat_TBR\n",
      "processing firstwall_mat_TBR\n",
      "processing inboard_tf_coils_mat_TBR\n",
      "processing pf_coil_case_mat_TBR\n",
      "processing pf_coil_mat_TBR\n",
      "processing tf_coil_mat_TBR\n",
      "processing blanket_mat_heating\n",
      "processing blanket_rear_wall_mat_heating\n",
      "processing center_column_shield_mat_heating\n",
      "processing divertor_mat_heating\n",
      "processing firstwall_mat_heating\n",
      "processing inboard_tf_coils_mat_heating\n",
      "processing pf_coil_case_mat_heating\n",
      "processing pf_coil_mat_heating\n",
      "processing tf_coil_mat_heating\n"
     ]
    }
   ],
   "source": [
    "results = odw.process_results(statepoint_filename=statepoint_filename)"
   ]
  },
  {
   "cell_type": "markdown",
   "metadata": {},
   "source": [
    "prints the results of the simulation"
   ]
  },
  {
   "cell_type": "code",
   "execution_count": 27,
   "metadata": {},
   "outputs": [
    {
     "name": "stdout",
     "output_type": "stream",
     "text": [
      "defaultdict(<class 'dict'>,\n",
      "            {'TBR': {'result': 0.12117491318862389,\n",
      "                     'std. dev.': 0.03467079662507109},\n",
      "             'blanket_mat_TBR': {'result': 0.12116960749504556,\n",
      "                                 'std. dev.': 0.03467046412453008},\n",
      "             'blanket_mat_heating': {'MeV per source particle': {'result': 0.6875017743640932,\n",
      "                                                                 'std. dev.': 0.20629788077176192}},\n",
      "             'blanket_rear_wall_mat_TBR': {'result': 0.0, 'std. dev.': 0.0},\n",
      "             'blanket_rear_wall_mat_heating': {'MeV per source particle': {'result': 0.0,\n",
      "                                                                           'std. dev.': 0.0}},\n",
      "             'center_column_shield_mat_TBR': {'result': 3.7176088965332814e-07,\n",
      "                                              'std. dev.': 2.6024613099955484e-07},\n",
      "             'center_column_shield_mat_heating': {'MeV per source particle': {'result': 0.29760957274781974,\n",
      "                                                                              'std. dev.': 0.037903132880772}},\n",
      "             'divertor_mat_TBR': {'result': 1.9651809606401932e-07,\n",
      "                                  'std. dev.': 7.124910801619062e-08},\n",
      "             'divertor_mat_heating': {'MeV per source particle': {'result': 0.41733955041276444,\n",
      "                                                                  'std. dev.': 0.16449821130263445}},\n",
      "             'firstwall_mat_TBR': {'result': 4.737414592772001e-06,\n",
      "                                   'std. dev.': 6.639957800907665e-07},\n",
      "             'firstwall_mat_heating': {'MeV per source particle': {'result': 4.11706988422747,\n",
      "                                                                   'std. dev.': 0.10782396895287244}},\n",
      "             'inboard_tf_coils_mat_TBR': {'result': 0.0, 'std. dev.': 0.0},\n",
      "             'inboard_tf_coils_mat_heating': {'MeV per source particle': {'result': 0.0,\n",
      "                                                                          'std. dev.': 0.0}},\n",
      "             'pf_coil_case_mat_TBR': {'result': 0.0, 'std. dev.': 0.0},\n",
      "             'pf_coil_case_mat_heating': {'MeV per source particle': {'result': 0.0,\n",
      "                                                                      'std. dev.': 0.0}},\n",
      "             'pf_coil_mat_TBR': {'result': 0.0, 'std. dev.': 0.0},\n",
      "             'pf_coil_mat_heating': {'MeV per source particle': {'result': 0.0,\n",
      "                                                                 'std. dev.': 0.0}},\n",
      "             'tf_coil_mat_TBR': {'result': 0.0, 'std. dev.': 0.0},\n",
      "             'tf_coil_mat_heating': {'MeV per source particle': {'result': 0.0,\n",
      "                                                                 'std. dev.': 0.0}}})\n"
     ]
    }
   ],
   "source": [
    "import pprint\n",
    "pprint.pprint(results)"
   ]
  }
 ],
 "metadata": {
  "interpreter": {
   "hash": "71893251c0b0cd78b546a9c905312457257aecf63dc5b51c6968316964f80317"
  },
  "kernelspec": {
   "display_name": "Python 3 (ipykernel)",
   "language": "python",
   "name": "python3"
  },
  "language_info": {
   "codemirror_mode": {
    "name": "ipython",
    "version": 3
   },
   "file_extension": ".py",
   "mimetype": "text/x-python",
   "name": "python",
   "nbconvert_exporter": "python",
   "pygments_lexer": "ipython3",
   "version": "3.8.11"
  }
 },
 "nbformat": 4,
 "nbformat_minor": 4
}
