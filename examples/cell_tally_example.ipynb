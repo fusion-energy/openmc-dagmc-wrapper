{
 "cells": [
  {
   "cell_type": "markdown",
   "metadata": {},
   "source": [
    "This is a minimal example that obtains the TBR (Tritium Breeding Ratio) for a simplified fusion reactor"
   ]
  },
  {
   "cell_type": "markdown",
   "metadata": {},
   "source": [
    "imports required packages"
   ]
  },
  {
   "cell_type": "code",
   "execution_count": 1,
   "metadata": {},
   "outputs": [],
   "source": [
    "import openmc\n",
    "import openmc_dagmc_wrapper as odw\n",
    "import dagmc_h5m_file_inspector as di\n",
    "import tarfile\n",
    "import urllib.request\n",
    "# import openmc_data_donloader todo add ability to downlad materials in a nmm material"
   ]
  },
  {
   "cell_type": "markdown",
   "metadata": {},
   "source": [
    "Downloads an example h5m file made using the Paramak and cad_to_h5m python packages."
   ]
  },
  {
   "cell_type": "code",
   "execution_count": 2,
   "metadata": {},
   "outputs": [],
   "source": [
    "url = \"https://github.com/fusion-energy/neutronics_workflow/archive/refs/tags/v0.0.2.tar.gz\"\n",
    "urllib.request.urlretrieve(url, \"v0.0.2.tar.gz\")\n",
    "\n",
    "tar = tarfile.open(\"v0.0.2.tar.gz\", \"r:gz\")\n",
    "tar.extractall(\".\")\n",
    "tar.close()\n",
    "\n",
    "h5m_filename = \"neutronics_workflow-0.0.2/example_02_multi_volume_cell_tally/stage_2_output/dagmc.h5m\""
   ]
  },
  {
   "cell_type": "markdown",
   "metadata": {},
   "source": [
    "Creates a simple openmc point source"
   ]
  },
  {
   "cell_type": "code",
   "execution_count": 3,
   "metadata": {},
   "outputs": [
    {
     "data": {
      "text/plain": [
       "['blanket_mat',\n",
       " 'blanket_rear_wall_mat',\n",
       " 'center_column_shield_mat',\n",
       " 'divertor_mat',\n",
       " 'firstwall_mat',\n",
       " 'graveyard',\n",
       " 'inboard_tf_coils_mat',\n",
       " 'pf_coil_case_mat',\n",
       " 'pf_coil_mat',\n",
       " 'tf_coil_mat']"
      ]
     },
     "execution_count": 3,
     "metadata": {},
     "output_type": "execute_result"
    }
   ],
   "source": [
    "di.get_materials_from_h5m(h5m_filename)"
   ]
  },
  {
   "cell_type": "code",
   "execution_count": 4,
   "metadata": {},
   "outputs": [],
   "source": [
    "source = openmc.Source()\n",
    "# sets the location of the source to x=0 y=0 z=0\n",
    "source.space = openmc.stats.Point((450, 0, 0))\n",
    "# sets the direction to isotropic\n",
    "source.angle = openmc.stats.Isotropic()\n",
    "# sets the energy distribution to 100% 14MeV neutrons\n",
    "source.energy = openmc.stats.Discrete([14e6], [1])"
   ]
  },
  {
   "cell_type": "markdown",
   "metadata": {},
   "source": [
    "Creates a NeutronicsModel object with the h5m file, openmc source and materials from the neutronic_material_maker database"
   ]
  },
  {
   "cell_type": "code",
   "execution_count": 5,
   "metadata": {},
   "outputs": [],
   "source": [
    "# makes the neutronics model from the geometry and material allocations\n",
    "my_model = odw.NeutronicsModel(\n",
    "    h5m_filename=h5m_filename,\n",
    "    source=source,\n",
    "    materials={\n",
    "         'blanket_mat':'Li4SiO4',\n",
    "         'blanket_rear_wall_mat':'eurofer',\n",
    "         'center_column_shield_mat':'eurofer',\n",
    "         'divertor_mat':'eurofer',\n",
    "         'firstwall_mat':'eurofer',\n",
    "         'inboard_tf_coils_mat':'eurofer',\n",
    "         'pf_coil_case_mat':'eurofer',\n",
    "         'pf_coil_mat':'eurofer',\n",
    "         'tf_coil_mat':'eurofer'\n",
    "    },\n",
    "    cell_tallies=['TBR', 'heating'],\n",
    ")"
   ]
  },
  {
   "cell_type": "markdown",
   "metadata": {},
   "source": [
    "Exports the xml files needed by openmc to perform the simulation. The number of batch and particles would need increasing to obtain accurate results."
   ]
  },
  {
   "cell_type": "code",
   "execution_count": 6,
   "metadata": {},
   "outputs": [
    {
     "name": "stderr",
     "output_type": "stream",
     "text": [
      "/opt/openmc/openmc/mixin.py:67: IDWarning:\n",
      "\n",
      "Another Filter instance already exists with id=1.\n",
      "\n",
      "/opt/openmc/openmc/mixin.py:67: IDWarning:\n",
      "\n",
      "Another Filter instance already exists with id=2.\n",
      "\n",
      "/opt/openmc/openmc/mixin.py:67: IDWarning:\n",
      "\n",
      "Another Filter instance already exists with id=3.\n",
      "\n",
      "/opt/openmc/openmc/mixin.py:67: IDWarning:\n",
      "\n",
      "Another Filter instance already exists with id=4.\n",
      "\n",
      "/opt/openmc/openmc/mixin.py:67: IDWarning:\n",
      "\n",
      "Another Filter instance already exists with id=5.\n",
      "\n",
      "/opt/openmc/openmc/mixin.py:67: IDWarning:\n",
      "\n",
      "Another Filter instance already exists with id=6.\n",
      "\n",
      "/opt/openmc/openmc/mixin.py:67: IDWarning:\n",
      "\n",
      "Another Filter instance already exists with id=7.\n",
      "\n",
      "/opt/openmc/openmc/mixin.py:67: IDWarning:\n",
      "\n",
      "Another Filter instance already exists with id=8.\n",
      "\n",
      "/opt/openmc/openmc/mixin.py:67: IDWarning:\n",
      "\n",
      "Another Filter instance already exists with id=9.\n",
      "\n"
     ]
    },
    {
     "data": {
      "text/plain": [
       "<openmc.model.model.Model at 0x7f3b0a2292b0>"
      ]
     },
     "execution_count": 6,
     "metadata": {},
     "output_type": "execute_result"
    }
   ],
   "source": [
    "my_model.export_xml(\n",
    "    simulation_batches=2,\n",
    "    simulation_particles_per_batch=100\n",
    ")"
   ]
  },
  {
   "cell_type": "markdown",
   "metadata": {},
   "source": [
    "Simulates the model using openmc"
   ]
  },
  {
   "cell_type": "code",
   "execution_count": 16,
   "metadata": {},
   "outputs": [
    {
     "data": {
      "text/plain": [
       "2"
      ]
     },
     "execution_count": 16,
     "metadata": {},
     "output_type": "execute_result"
    }
   ],
   "source": [
    "statepoint_filename = my_model.simulate()"
   ]
  },
  {
   "cell_type": "markdown",
   "metadata": {},
   "source": [
    "extracts and processes the results from the statepoint file"
   ]
  },
  {
   "cell_type": "code",
   "execution_count": 25,
   "metadata": {},
   "outputs": [
    {
     "name": "stdout",
     "output_type": "stream",
     "text": [
      "processing TBR\n",
      "processing blanket_mat_TBR\n",
      "processing blanket_rear_wall_mat_TBR\n",
      "processing center_column_shield_mat_TBR\n",
      "processing divertor_mat_TBR\n",
      "processing firstwall_mat_TBR\n",
      "processing inboard_tf_coils_mat_TBR\n",
      "processing pf_coil_case_mat_TBR\n",
      "processing pf_coil_mat_TBR\n",
      "processing tf_coil_mat_TBR\n",
      "processing blanket_mat_heating\n",
      "processing blanket_rear_wall_mat_heating\n",
      "processing center_column_shield_mat_heating\n",
      "processing divertor_mat_heating\n",
      "processing firstwall_mat_heating\n",
      "processing inboard_tf_coils_mat_heating\n",
      "processing pf_coil_case_mat_heating\n",
      "processing pf_coil_mat_heating\n",
      "processing tf_coil_mat_heating\n"
     ]
    }
   ],
   "source": [
    "results = odw.process_results(statepoint_filename=statepoint_filename)"
   ]
  },
  {
   "cell_type": "markdown",
   "metadata": {},
   "source": [
    "prints the results of the simulation"
   ]
  },
  {
   "cell_type": "code",
   "execution_count": 27,
   "metadata": {},
   "outputs": [
    {
     "name": "stdout",
     "output_type": "stream",
     "text": [
      "defaultdict(<class 'dict'>,\n",
      "            {'TBR': {'result': 0.12117491318862389,\n",
      "                     'std. dev.': 0.03467079662507109},\n",
      "             'blanket_mat_TBR': {'result': 0.12116960749504556,\n",
      "                                 'std. dev.': 0.03467046412453008},\n",
      "             'blanket_mat_heating': {'MeV per source particle': {'result': 0.6875017743640932,\n",
      "                                                                 'std. dev.': 0.20629788077176192}},\n",
      "             'blanket_rear_wall_mat_TBR': {'result': 0.0, 'std. dev.': 0.0},\n",
      "             'blanket_rear_wall_mat_heating': {'MeV per source particle': {'result': 0.0,\n",
      "                                                                           'std. dev.': 0.0}},\n",
      "             'center_column_shield_mat_TBR': {'result': 3.7176088965332814e-07,\n",
      "                                              'std. dev.': 2.6024613099955484e-07},\n",
      "             'center_column_shield_mat_heating': {'MeV per source particle': {'result': 0.29760957274781974,\n",
      "                                                                              'std. dev.': 0.037903132880772}},\n",
      "             'divertor_mat_TBR': {'result': 1.9651809606401932e-07,\n",
      "                                  'std. dev.': 7.124910801619062e-08},\n",
      "             'divertor_mat_heating': {'MeV per source particle': {'result': 0.41733955041276444,\n",
      "                                                                  'std. dev.': 0.16449821130263445}},\n",
      "             'firstwall_mat_TBR': {'result': 4.737414592772001e-06,\n",
      "                                   'std. dev.': 6.639957800907665e-07},\n",
      "             'firstwall_mat_heating': {'MeV per source particle': {'result': 4.11706988422747,\n",
      "                                                                   'std. dev.': 0.10782396895287244}},\n",
      "             'inboard_tf_coils_mat_TBR': {'result': 0.0, 'std. dev.': 0.0},\n",
      "             'inboard_tf_coils_mat_heating': {'MeV per source particle': {'result': 0.0,\n",
      "                                                                          'std. dev.': 0.0}},\n",
      "             'pf_coil_case_mat_TBR': {'result': 0.0, 'std. dev.': 0.0},\n",
      "             'pf_coil_case_mat_heating': {'MeV per source particle': {'result': 0.0,\n",
      "                                                                      'std. dev.': 0.0}},\n",
      "             'pf_coil_mat_TBR': {'result': 0.0, 'std. dev.': 0.0},\n",
      "             'pf_coil_mat_heating': {'MeV per source particle': {'result': 0.0,\n",
      "                                                                 'std. dev.': 0.0}},\n",
      "             'tf_coil_mat_TBR': {'result': 0.0, 'std. dev.': 0.0},\n",
      "             'tf_coil_mat_heating': {'MeV per source particle': {'result': 0.0,\n",
      "                                                                 'std. dev.': 0.0}}})\n"
     ]
    }
   ],
   "source": [
    "import pprint\n",
    "pprint.pprint(results)"
   ]
  }
 ],
 "metadata": {
  "interpreter": {
   "hash": "71893251c0b0cd78b546a9c905312457257aecf63dc5b51c6968316964f80317"
  },
  "kernelspec": {
   "display_name": "Python 3 (ipykernel)",
   "language": "python",
   "name": "python3"
  },
  "language_info": {
   "codemirror_mode": {
    "name": "ipython",
    "version": 3
   },
   "file_extension": ".py",
   "mimetype": "text/x-python",
   "name": "python",
   "nbconvert_exporter": "python",
   "pygments_lexer": "ipython3",
   "version": "3.9.5"
  }
 },
 "nbformat": 4,
 "nbformat_minor": 4
}
