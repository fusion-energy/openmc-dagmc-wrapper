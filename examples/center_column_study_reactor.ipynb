{
 "cells": [
  {
   "cell_type": "code",
   "execution_count": null,
   "metadata": {},
   "outputs": [],
   "source": [
    "\"\"\"This example makes a reactor geometry and a neutronics model, the addition\n",
    "of a Python for loop allow a parameter sweep of the neutronics results for\n",
    "different geometries. The distance between the plasma and center column is\n",
    "varried while simulating the impact on the heat depositied in the center\n",
    "column.\"\"\"\n",
    "\n",
    "import matplotlib.pyplot as plt\n",
    "import openmc\n",
    "import openmc_dagmc_wrapper as odw\n",
    "\n",
    "\n",
    "source = openmc.Source()\n",
    "# sets the location of the source to x=0 y=0 z=0\n",
    "source.space = openmc.stats.Point((my_reactor.major_radius, 0, 0))\n",
    "# sets the direction to isotropic\n",
    "source.angle = openmc.stats.Isotropic()\n",
    "# sets the energy distribution to 100% 14MeV neutrons\n",
    "source.energy = openmc.stats.Discrete([14e6], [1])\n",
    "\n",
    "# makes the neutronics model and assigns basic materials to each\n",
    "# component\n",
    "neutronics_model = odw.NeutronicsModel(\n",
    "    h5m_filename=my_reactor.export_h5m(),\n",
    "    source=source,\n",
    "    materials={\n",
    "        'DT_plasma': 'DT_plasma',\n",
    "        'inboard_tf_coils_mat': 'eurofer',\n",
    "        'center_column_shield_mat': 'eurofer',\n",
    "        'divertor_mat': 'eurofer',\n",
    "        'firstwall_mat': 'eurofer',\n",
    "        'blanket_mat': 'Li4SiO4'},\n",
    "    cell_tallies=['heating'],\n",
    ")\n",
    "\n",
    "# starts the neutronics simulation\n",
    "h5m_filename = neutronics_model.simulate(\n",
    "    simulation_batches=2,\n",
    "    simulation_particles_per_batch=10,  # this would need increasing to get a accurate result\n",
    ")\n",
    "\n",
    "# extracts and processes the results from the statepoint file\n",
    "results = neutronics_model.process_results(statepoint_filename=h5m_filename)\n",
    "\n",
    "# converts the results to mega watts\n",
    "total_heat_in_MW = results['firstwall_mat_heating']['Watts']['result'] / 1e6\n",
    "\n"
   ]
  }
 ],
 "metadata": {
  "interpreter": {
   "hash": "71893251c0b0cd78b546a9c905312457257aecf63dc5b51c6968316964f80317"
  },
  "kernelspec": {
   "display_name": "Python 3 (ipykernel)",
   "language": "python",
   "name": "python3"
  },
  "language_info": {
   "codemirror_mode": {
    "name": "ipython",
    "version": 3
   },
   "file_extension": ".py",
   "mimetype": "text/x-python",
   "name": "python",
   "nbconvert_exporter": "python",
   "pygments_lexer": "ipython3",
   "version": "3.8.11"
  }
 },
 "nbformat": 4,
 "nbformat_minor": 4
}
